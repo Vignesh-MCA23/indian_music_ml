{
  "cells": [
    {
      "cell_type": "code",
      "execution_count": 56,
      "metadata": {
        "id": "PAcydB7NIlTW"
      },
      "outputs": [],
      "source": [
        "import spotipy\n",
        "import spotipy.oauth2 as oauth2\n",
        "from spotipy.oauth2 import SpotifyOAuth\n",
        "from spotipy.oauth2 import SpotifyClientCredentials\n",
        "import pandas as pd\n",
        "import time\n",
        "import plotly.express as px\n",
        "\n",
        "\n"
      ]
    },
    {
      "cell_type": "code",
      "execution_count": null,
      "metadata": {
        "colab": {
          "base_uri": "https://localhost:8080/"
        },
        "id": "zSMGr1I7JdXK",
        "outputId": "c29a43a7-ef66-4a14-f790-b66fe5c11536"
      },
      "outputs": [
        {
          "name": "stdout",
          "output_type": "stream",
          "text": [
            "Defaulting to user installation because normal site-packages is not writeable\n",
            "Requirement already satisfied: spotipy in c:\\users\\lenovo\\appdata\\local\\packages\\pythonsoftwarefoundation.python.3.13_qbz5n2kfra8p0\\localcache\\local-packages\\python313\\site-packages (2.25.1)\n",
            "Requirement already satisfied: redis>=3.5.3 in c:\\users\\lenovo\\appdata\\local\\packages\\pythonsoftwarefoundation.python.3.13_qbz5n2kfra8p0\\localcache\\local-packages\\python313\\site-packages (from spotipy) (6.4.0)\n",
            "Requirement already satisfied: requests>=2.25.0 in c:\\users\\lenovo\\appdata\\local\\packages\\pythonsoftwarefoundation.python.3.13_qbz5n2kfra8p0\\localcache\\local-packages\\python313\\site-packages (from spotipy) (2.32.5)\n",
            "Requirement already satisfied: urllib3>=1.26.0 in c:\\users\\lenovo\\appdata\\local\\packages\\pythonsoftwarefoundation.python.3.13_qbz5n2kfra8p0\\localcache\\local-packages\\python313\\site-packages (from spotipy) (2.5.0)\n",
            "Requirement already satisfied: charset_normalizer<4,>=2 in c:\\users\\lenovo\\appdata\\local\\packages\\pythonsoftwarefoundation.python.3.13_qbz5n2kfra8p0\\localcache\\local-packages\\python313\\site-packages (from requests>=2.25.0->spotipy) (3.4.3)\n",
            "Requirement already satisfied: idna<4,>=2.5 in c:\\users\\lenovo\\appdata\\local\\packages\\pythonsoftwarefoundation.python.3.13_qbz5n2kfra8p0\\localcache\\local-packages\\python313\\site-packages (from requests>=2.25.0->spotipy) (3.10)\n",
            "Requirement already satisfied: certifi>=2017.4.17 in c:\\users\\lenovo\\appdata\\local\\packages\\pythonsoftwarefoundation.python.3.13_qbz5n2kfra8p0\\localcache\\local-packages\\python313\\site-packages (from requests>=2.25.0->spotipy) (2025.8.3)\n",
            "Note: you may need to restart the kernel to use updated packages.\n"
          ]
        }
      ],
      "source": [
        "%pip install spotipy"
      ]
    },
    {
      "cell_type": "code",
      "execution_count": 58,
      "metadata": {
        "colab": {
          "base_uri": "https://localhost:8080/"
        },
        "id": "a6ZMzlxeIn8i",
        "outputId": "739d58c3-98b8-4d44-ed0e-8e35c40bf6bc"
      },
      "outputs": [
        {
          "name": "stdout",
          "output_type": "stream",
          "text": [
            "G. V. Prakash\n",
            "Followers: 16038878\n",
            "Genres: ['tamil pop', 'kollywood', 'tamil dance', 'tamil hip hop', 'tollywood']\n"
          ]
        }
      ],
      "source": [
        "cid = \"c855ed5e010e458b98d775a98e5800a5\"\n",
        "cis = \"65268ef9226349fbb7f33043e61d3f60\"\n",
        "\n",
        "auth_manager = SpotifyClientCredentials(client_id=cid, client_secret=cis)\n",
        "sp = spotipy.Spotify(auth_manager=auth_manager)\n",
        "\n",
        "# Use just the Artist ID\n",
        "artist_id = \"5VVN3xZw1i2qihfITZlvCZ\"\n",
        "\n",
        "artist = sp.artist(artist_id)\n",
        "print(artist[\"name\"])\n",
        "print(\"Followers:\", artist[\"followers\"][\"total\"])\n",
        "print(\"Genres:\", artist[\"genres\"])\n"
      ]
    },
    {
      "cell_type": "code",
      "execution_count": 59,
      "metadata": {
        "colab": {
          "base_uri": "https://localhost:8080/"
        },
        "id": "sX-xgJRWIos2",
        "outputId": "0654c553-e7b8-4bcd-c0d0-f84c743c1dec"
      },
      "outputs": [
        {
          "name": "stdout",
          "output_type": "stream",
          "text": [
            "Artist ID: 6AiX12wXdXFoGJ2vk8zBjy\n",
            "Sweetheart (Original Score)\n",
            "Paiya (Deluxe Edition) [Original Motion Picture Soundtrack]\n",
            "Pyaar Prema Kaadhal (Original Motion Picture Soundtrack)\n",
            "Premistava (DIALOGUES)\n",
            "Nesippaya (DIALOGUES)\n",
            "Nesippaya Ost\n",
            "Nenjam Marappathillai (Original Background Score)\n",
            "Sweetheart (Original Motion Picture Soundtrack)\n",
            "Star (Original Background Score)\n",
            "The Greatest Of All Time Ost\n",
            "The Greatest Of All Time Ost\n",
            "Yuvan Potta Mettu - Athanaiyum Hit\n",
            "Garudan (Original Score)\n",
            "Garudan (Original Motion Picture Soundtrack)\n",
            "Sandakozhi (Original Soundtrack)\n",
            "Modern Love (Chennai) [Original Series Soundtrack]\n",
            "Yuvans Yorker Hits\n",
            "Laththi (Original Background Score)\n",
            "Maanaadu (Original Motion Picture Soundtrack)\n",
            "Sulthan (Original Background Score)\n",
            "Irumbuthirai (Original Background Score)\n",
            "Music Special\n",
            "Balloon (Original Motion Picture Soundtrack)\n",
            "Aaa\n",
            "Taramani (Original Motion Picture Soundtrack)\n",
            "Rakshasudu (Original Motion Picture Soundtrack)\n",
            "Masss (Original Motion Picture Soundtrack)\n",
            "Valentine's Day Special 2015\n",
            "S J Surya Special Hits\n",
            "Star Hits of Vijay & Surya\n",
            "Hits of Shankar Mahadevan & Harish Raghavendra\n",
            "Raja Natwarlal (Original Motion Picture Soundtrack)\n",
            "Hits of Harris Jayaraj & Yuvan Sankar Raja Isai Mayakkam\n",
            "Biriyani (Telugu) (Original Motion Picture Soundtrack)\n",
            "Biriyani (Original Motion Picture Soundtrack)\n",
            "Love Hits of Yuvan\n",
            "Hits of Yuvanshankar Raja, Vol.3\n",
            "Voice of Yuvanshankar Raja\n",
            "Ilayaraja & Yuvan Shankar Raja Hits\n",
            "Thunder of Yuvan: Theendi Theendi\n",
            "7/G Rainbow Colony (Original Motion Picture Soundtrack)\n",
            "Yuvan Hits\n",
            "Hits of Yuvan Shankar Raja, Vol.2\n",
            "Kadhal Kondaen (Original Motion Picture Soundtrack)\n",
            "Chennai-600028 (Original Motion Picture Soundtrack)\n",
            "Oru Kalluriyin Kadhai (Original Motion Picture Soundtrack)\n",
            "7/G Rainbow Colony (Original Motion Picture Soundtrack)\n",
            "College Days\n",
            "Yours Yuvan\n",
            "Mr Nookayya\n",
            "Mankatha (Original Motion Picture Soundtrack)\n",
            "Thillalangadi (Original Motion Picture Soundtrack)\n",
            "Goa (Original Motion Picture Soundtrack)\n",
            "Yaaradi Nee Mohini (Original Motion Picture Soundtrack)\n",
            "Vazhthukkal (Original Motion Picture Soundtrack)\n",
            "Kodithey Kottalira\n",
            "Rajubhai\n",
            "Aadavari Matalaku Ardhalu Veruley\n",
            "Vallavan (Original Motion Picture Soundtrack)\n",
            "Vallabha\n",
            "Jaadoo\n",
            "Pudhupettai (Original Motion Picture Soundtrack)\n",
            "Manmadha\n",
            "Kanda Naal Mudhal (Original Motion Picture Soundtrack)\n",
            "Azhagai Irukkirai Bayamai Irukkirathu & Nanbanin Kadhali\n",
            "Manmadhan (Original Motion Picture Soundtrack)\n",
            "Manmadhan (Original Background Score)\n",
            "7G Brundhavana Colony\n",
            "Kurumbu\n",
            "Mounam Pesiyathey (Original Motion Picture Soundtrack)\n",
            "Kadhal Samrajyam (Original Motion Picture Soundtrack)\n",
            "Seshu (Original Motion Picture Soundtrack)\n",
            "Thulluvadho Ilamai\n",
            "Poovellam Kettuppar\n",
            "Poovellam Kettuppar\n",
            "Aravindhan\n"
          ]
        }
      ],
      "source": [
        "name = \"Yuvan Shankar Raja\"\n",
        "result = sp.search(q=name, type=\"artist\", limit=1)\n",
        "artist_id = result['artists']['items'][0]['id']\n",
        "\n",
        "print(\"Artist ID:\", artist_id)\n",
        "\n",
        "# Get artist albums\n",
        "results = sp.artist_albums(artist_id, album_type='album')\n",
        "albums = results['items']\n",
        "\n",
        "while results['next']:\n",
        "    results = sp.next(results)\n",
        "    albums.extend(results['items'])\n",
        "\n",
        "# Print album names\n",
        "for album in albums:\n",
        "    print(album['name'])"
      ]
    },
    {
      "cell_type": "code",
      "execution_count": 60,
      "metadata": {
        "colab": {
          "base_uri": "https://localhost:8080/"
        },
        "id": "yT6mhQ4xIo7y",
        "outputId": "ecef180c-e02a-45a0-f37b-31b7c4e0630d"
      },
      "outputs": [
        {
          "name": "stdout",
          "output_type": "stream",
          "text": [
            "Song : Thuli Thuli\n",
            "Track URL : https://open.spotify.com/track/7fUS9gftrrgtaHJUwFnbEt\n",
            "\n",
            "Song : Enkeyoo Partha\n",
            "Track URL : https://open.spotify.com/track/5TL3UHuEBRMPbAIAOiPJmc\n",
            "\n",
            "Song : Venmegam\n",
            "Track URL : https://open.spotify.com/track/6Z8oU8xMOie24Cflh2Sw6p\n",
            "\n",
            "Song : En Kadhal Solla\n",
            "Track URL : https://open.spotify.com/track/5PRxqbrJNoJo3zIzT3gvf5\n",
            "\n",
            "Song : Kaadhal Vaithu\n",
            "Track URL : https://open.spotify.com/track/4GCS7blidC5PMyJD8JCTvc\n",
            "\n",
            "Song : Matta (From \"The Greatest Of All Time\")\n",
            "Track URL : https://open.spotify.com/track/0xN4nwgOWg59k0t94CJAj4\n",
            "\n",
            "Song : Oru Devathai\n",
            "Track URL : https://open.spotify.com/track/3qTNm4Mta37YmEcLeQcdw3\n",
            "\n",
            "Song : Kadhal Aasai\n",
            "Track URL : https://open.spotify.com/track/3gnWw0LToxswxfC6Eb8GBp\n",
            "\n",
            "Song : Adada Mazhaida\n",
            "Track URL : https://open.spotify.com/track/1wVKhymlMQB1mwVmp2KgAn\n",
            "\n",
            "Song : Rowdy Baby\n",
            "Track URL : https://open.spotify.com/track/3c6Y3iJr3bm6utsdRcm30J\n",
            "\n"
          ]
        }
      ],
      "source": [
        "sp = spotipy.Spotify(auth_manager=auth_manager)\n",
        "\n",
        "# Yuvan artist URI\n",
        "yuvan_top_tracks = \"spotify:artist:6AiX12wXdXFoGJ2vk8zBjy\"\n",
        "\n",
        "results = sp.artist_top_tracks(yuvan_top_tracks, country=\"IN\")\n",
        "\n",
        "for track in results['tracks'][:10]:\n",
        "    print(\"Song :\", track['name'])\n",
        "    print(\"Track URL :\", track['external_urls']['spotify'])  # always works\n",
        "    print()\n"
      ]
    },
    {
      "cell_type": "code",
      "execution_count": null,
      "metadata": {
        "id": "Ggi1DnnEikvt"
      },
      "outputs": [],
      "source": [
        "track_id = \"3gnWw0LToxswxfC6Eb8GBp\"\n",
        "# Get track details\n",
        "track_info = sp.track(track_id)\n",
        "# Extract metadata\n",
        "name = track_info['name']\n",
        "album = track_info['album']['name']\n",
        "artist = track_info['album']['artists'][0]['name']\n",
        "release_date = track_info['album']['release_date']\n",
        "length = track_info['duration_ms']\n",
        "popularity = track_info['popularity']\n"
      ]
    },
    {
      "cell_type": "code",
      "execution_count": 62,
      "metadata": {
        "id": "XjY0jyUPRQkE"
      },
      "outputs": [],
      "source": [
        "track =[name, album, artist, release_date, length, popularity]\n"
      ]
    },
    {
      "cell_type": "code",
      "execution_count": 63,
      "metadata": {
        "id": "6rIOjwrGKsVt"
      },
      "outputs": [],
      "source": [
        "df=pd.DataFrame (track).T.values.tolist()\n",
        "df_final =pd.DataFrame(df, columns=['name', 'album', 'artist', 'release_Date',' length','popularity'])"
      ]
    },
    {
      "cell_type": "code",
      "execution_count": 64,
      "metadata": {
        "colab": {
          "base_uri": "https://localhost:8080/",
          "height": 89
        },
        "id": "YVwnek_JP5mv",
        "outputId": "94737654-e8dd-41e8-a937-0f86f00221cc"
      },
      "outputs": [
        {
          "data": {
            "text/html": [
              "<div>\n",
              "<style scoped>\n",
              "    .dataframe tbody tr th:only-of-type {\n",
              "        vertical-align: middle;\n",
              "    }\n",
              "\n",
              "    .dataframe tbody tr th {\n",
              "        vertical-align: top;\n",
              "    }\n",
              "\n",
              "    .dataframe thead th {\n",
              "        text-align: right;\n",
              "    }\n",
              "</style>\n",
              "<table border=\"1\" class=\"dataframe\">\n",
              "  <thead>\n",
              "    <tr style=\"text-align: right;\">\n",
              "      <th></th>\n",
              "      <th>name</th>\n",
              "      <th>album</th>\n",
              "      <th>artist</th>\n",
              "      <th>release_Date</th>\n",
              "      <th>length</th>\n",
              "      <th>popularity</th>\n",
              "    </tr>\n",
              "  </thead>\n",
              "  <tbody>\n",
              "    <tr>\n",
              "      <th>0</th>\n",
              "      <td>Kadhal Aasai</td>\n",
              "      <td>Anjaan (Original Motion Picture Soundtrack)</td>\n",
              "      <td>Yuvan Shankar Raja</td>\n",
              "      <td>2014-07-25</td>\n",
              "      <td>303750</td>\n",
              "      <td>63</td>\n",
              "    </tr>\n",
              "  </tbody>\n",
              "</table>\n",
              "</div>"
            ],
            "text/plain": [
              "           name                                        album  \\\n",
              "0  Kadhal Aasai  Anjaan (Original Motion Picture Soundtrack)   \n",
              "\n",
              "               artist release_Date   length  popularity  \n",
              "0  Yuvan Shankar Raja   2014-07-25   303750          63  "
            ]
          },
          "execution_count": 64,
          "metadata": {},
          "output_type": "execute_result"
        }
      ],
      "source": [
        "df_final"
      ]
    },
    {
      "cell_type": "code",
      "execution_count": 65,
      "metadata": {
        "colab": {
          "base_uri": "https://localhost:8080/"
        },
        "id": "xNElBo66VWd2",
        "outputId": "b42f0111-183e-476d-80ee-81ae687d2f91"
      },
      "outputs": [
        {
          "name": "stdout",
          "output_type": "stream",
          "text": [
            "100\n",
            "['7hMKAmUlUUYa5qEiHWK4bk', '00bHxCcteaAJhU5WiP1mtf', '5DYfTyqUNBmOnQtljQjYk2', '4LK8863ScRhhT6hitFfBI5', '3CA9CjRf7IU2Ukz3GuYInP', '3kfu3KKaiTAfohtpWq1tew', '0q84FggW57NXGtLHoetS0Y', '3gnWw0LToxswxfC6Eb8GBp', '59NxpNfVn6odonnpGK7yHI', '1n5gnI3Wue9WBpYFOIQNh1', '53BDFOlAHccjfoxe06JKpc', '0VjIjW4GlUZAMYd2vXMi3b', '6RgavOARUlNnQW7xnRV4t5', '2lOrPIWA114GA1OFEcHc8R', '6R0FwF48PO2BrdZpLeWi42', '4JAZ4HQ2nioJSD9aykVCEq', '3PIsAyTzSrtDX3JH9CxAmh', '68dGKf5eIchw0bxpuhk4g8', '2plbrEY59IikOBgBGLjaoe', '6STXfHpOuGjOespYlpeuI4', '4HDzsx1dJKbuL0YkffBuBm', '1YDAO1jQ59Dw0xRqDmE1pB', '6Z8oU8xMOie24Cflh2Sw6p', '29T3IgO0qArdvkuO5RR797', '5jOi67yXzjpMdl6KFNWSIe', '69JfYdRoxrbGLow5T3Q94j', '5KJSI1MjQeXEBHBYMjgP41', '6lXXUx3PwJ4B4cln5FJfzo', '75sjXeV1gvbSUhptK16P9u', '35ao2ZiLc7e3Qztk0fGX88', '3lLX2Vm99sMD5kuZqnr2T0', '5cfKBuE5XKtlaNOVjQwA9H', '3dLhDLdUwUFeiDquvenigi', '5TL3UHuEBRMPbAIAOiPJmc', '1wAuEy3S7IMkb4e2z71TKk', '3Cq5W6HTcwVKM4g3Et1gXW', '6MnXtzaXUOYQ3SbPuqpZaz', '6sPW145Y3LSXd4p1LjBOcS', '0OvejIBBqjCIrg1BNe2fpg', '1mhSxDdt2qCH8mAV9Bmgu6', '5jXrULyYKHjkAMk4TXZFoG', '3NHvXq8sdp7UmrqWJdAqz7', '4nzsbSuEAIDGtVLN3asIWM', '09Z6o1yu596HJAwWZxTz4m', '3KmqCi6VD4IkonTDO1LRge', '20ByUIwcqVJrelRQrnmOpT', '23bpCCVsTUKviTEfoy4tbM', '4zN6Dvjgmo9riaT7JgAKHF', '6lXXUx3PwJ4B4cln5FJfzo', '2CZGdpVV9OU1TslQMvovj5', '1hhLL2eWsnPtYCdDjbiRIU', '5NEGfbKMcNuEWOzpWufScA', '4PAAmb2Ulr5BlEfJNSPefY', '4xd8fO9NUlWWrEH2dTo3ma', '7rXAo8EAnXAZFVBZ4NCGPN', '1xMDMww0PMRiLTKhCmnmsj', '37oJGIPo6iCyXSrWuLjHbH', '6DNeqxj4E9rsyWC69L1OdD', '5HCyWlXZPP0y6Gqq8TgA20', '55mEN7iiqTNzWfYjF8QbQn', '4tkSvA7zfuhwgHQbEeNEJU', '5YPRNP0c9KiZSMJDVL3h0x', '6vZj02bcQqLTYRAi4jRkw7', '5UOFLYC30Ajp7woaZUHgw0', '3JpksZzvfTjkHJUE1PEa9d', '6PmFCzYt9fJlh1MlKLcpFs', '2TyThiy0ll1Iqe0hNc3JIK', '1lqdPJz24AiFWeo3arwPXR', '5AnTS2GAOnXjfBqDpEBCfx', '4Hvf9xIeJWp5p9FkJerQhN', '5pV61B6b5kcy1ysaPL8iON', '1DfnN5DuxC927Gwh6W3Ob1', '01yHYYvFwxQorNJTBwbvPn', '18ONQnZsstfBATeq0yusPN', '2cFWFZDESQC4XLJv7C6FEr', '1TKjYMzi577upCbE0vABcr', '60Xc3m5YMJlKWwhCUzRMoU', '4H5TGjyk4AHSxgqRjqWQf1', '6Ro16W3cg8dg7um9aRLWAj', '7tMn4y7eBEMcUFIWZPaHCM', '7BKLCZ1jbUBVqRi2FVlTVw', '0nSZgFoPmko4OLfTNaHdCF', '0xttqqTj7ZAGyVkfOYxQ4F', '6FMejF2EAWQlgGBRNyptbg', '7N0MglnLim3CEUUp82P7BD', '1VBkQidkoJXhQPJsAvSkNP', '19nEFsswIftvopxVMUAM9b', '4zTC9Wy4tMWvXeRaJwTHqH', '7j6Cb59M9yOq3aw4fmDzQj', '5uhAAyQlgzOgghJp5XSigQ', '7fu8lcM9N3rVjWZr9ky6Nd', '47Cd4WP1ZOK8WXC68kqZ03', '3hXX5v2JaVqDR3aeQcPAU9', '32R7r1j2r13XwF62fT8sNt', '3eeUvZTgP5uJfOMqI3sUVq', '1Q3oZnMXBy55s8uFJmR1bE', '3bEjPeHMjDdpqAhi0KVl4x', '0Nfw28ZsBiOXmFKP636P7h', '1uo92sjeCR9cSUf92uttdo', '3dtn58YibpSmNtH4KHuIX9']\n"
          ]
        }
      ],
      "source": [
        "def getTrackIDs(user, playlist_id):\n",
        "    track_ids = []\n",
        "    album = sp.user_playlist(user, playlist_id)\n",
        "    for item in album['tracks']['items']:\n",
        "        track = item['track']\n",
        "        track_ids.append(track['id'])\n",
        "    return track_ids\n",
        "#Give this playlist a listen: Kollyywood Songs https://open.spotify.com/playlist/2bi7o3OmZFV1kdX9ow1hwU?si=EJL0IneqSP651rryoS6fkA\n",
        "\n",
        "track_ids = getTrackIDs('spotify', \"2bi7o3OmZFV1kdX9ow1hwU\")\n",
        "print(len(track_ids))\n",
        "print(track_ids)"
      ]
    },
    {
      "cell_type": "code",
      "execution_count": 66,
      "metadata": {
        "id": "oM9MwXzkadb7"
      },
      "outputs": [],
      "source": [
        "def getPlaylistFeatures(id):\n",
        "  track_info = sp.track(id)\n",
        "  \n",
        "\n",
        "  name = track_info['name']\n",
        "  album = track_info[ 'album']['name']\n",
        "  artist = track_info[ 'album']['artists'][0][ 'name']\n",
        "  release_date = track_info['album']['release_date']\n",
        "  length = track_info[ 'duration_ms']\n",
        "  popularity = track_info['popularity']\n",
        "\n",
        "  track_data =[name, album, artist, release_date, length, popularity]\n",
        "\n",
        "  return track_data"
      ]
    },
    {
      "cell_type": "code",
      "execution_count": 67,
      "metadata": {},
      "outputs": [],
      "source": [
        "# def getPlaylistFeatures(id):\n",
        "#   track_info = sp.track(id)\n",
        "#   track_features=sp.audio_features(id)  \n",
        "\n",
        "#   name = track_info['name']\n",
        "#   album = track_info[ 'album']['name']\n",
        "#   artist = track_info[ 'album']['artists'][0][ 'name']\n",
        "#   release_date = track_info['album']['release_date']\n",
        "#   length = track_info[ 'duration_ms']\n",
        "#   popularity = track_info['popularity']\n",
        "\n",
        "#   acousticness=track_features[0]['acousticness']\n",
        "#   danceability=track_features[0]['danceability']\n",
        "#   energy=track_features[0]['energy']\n",
        "#   instrumentalness=track_features[0]['instrumentalness']\n",
        "#   liveness=track_features[0]['liveness']\n",
        "#   loudness=track_features[0]['loudness']\n",
        "#   speechiness=track_features[0]['speechiness']\n",
        "#   tempo=track_features[0]['tempo']\n",
        "\n",
        "#   time_signature=track_features[0]['time_signature']\n",
        "#   track_data =[name, album, artist, release_date, length, popularity, acousticness, danceability, energy, instrumentalness, liveness, loudness, speechiness, tempo, time_signature]\n",
        "\n",
        "#   return track_data"
      ]
    },
    {
      "cell_type": "code",
      "execution_count": 68,
      "metadata": {
        "colab": {
          "base_uri": "https://localhost:8080/",
          "height": 206
        },
        "id": "Kfk0TL7LSN2G",
        "outputId": "c2b79262-c0a7-495d-a1f3-072beff79609"
      },
      "outputs": [
        {
          "data": {
            "text/html": [
              "<div>\n",
              "<style scoped>\n",
              "    .dataframe tbody tr th:only-of-type {\n",
              "        vertical-align: middle;\n",
              "    }\n",
              "\n",
              "    .dataframe tbody tr th {\n",
              "        vertical-align: top;\n",
              "    }\n",
              "\n",
              "    .dataframe thead th {\n",
              "        text-align: right;\n",
              "    }\n",
              "</style>\n",
              "<table border=\"1\" class=\"dataframe\">\n",
              "  <thead>\n",
              "    <tr style=\"text-align: right;\">\n",
              "      <th></th>\n",
              "      <th>name</th>\n",
              "      <th>album</th>\n",
              "      <th>artist</th>\n",
              "      <th>release_date</th>\n",
              "      <th>length</th>\n",
              "      <th>popularity</th>\n",
              "    </tr>\n",
              "  </thead>\n",
              "  <tbody>\n",
              "    <tr>\n",
              "      <th>0</th>\n",
              "      <td>Pookkal Pookkum</td>\n",
              "      <td>Madharasapattinam (Original Motion Picture Sou...</td>\n",
              "      <td>G. V. Prakash</td>\n",
              "      <td>2010-04-04</td>\n",
              "      <td>396466</td>\n",
              "      <td>68</td>\n",
              "    </tr>\n",
              "    <tr>\n",
              "      <th>1</th>\n",
              "      <td>Unakkenna Venum Sollu</td>\n",
              "      <td>Yennai Arindhaal (Original Motion Picture Soun...</td>\n",
              "      <td>Harris Jayaraj</td>\n",
              "      <td>2015-01-04</td>\n",
              "      <td>308242</td>\n",
              "      <td>57</td>\n",
              "    </tr>\n",
              "    <tr>\n",
              "      <th>2</th>\n",
              "      <td>Ayyayo</td>\n",
              "      <td>Aadukalam (Original Motion Picture Soundtrack)</td>\n",
              "      <td>G. V. Prakash</td>\n",
              "      <td>2010-11-08</td>\n",
              "      <td>324373</td>\n",
              "      <td>68</td>\n",
              "    </tr>\n",
              "    <tr>\n",
              "      <th>3</th>\n",
              "      <td>Aval</td>\n",
              "      <td>Manithan (Original Motion Picture Soundtrack)</td>\n",
              "      <td>Santhosh Narayanan</td>\n",
              "      <td>2016-04-08</td>\n",
              "      <td>266639</td>\n",
              "      <td>64</td>\n",
              "    </tr>\n",
              "    <tr>\n",
              "      <th>4</th>\n",
              "      <td>Manasilaayo</td>\n",
              "      <td>Vettaiyan (Original Motion Picture Soundtrack)</td>\n",
              "      <td>Anirudh Ravichander</td>\n",
              "      <td>2024-10-14</td>\n",
              "      <td>235629</td>\n",
              "      <td>66</td>\n",
              "    </tr>\n",
              "  </tbody>\n",
              "</table>\n",
              "</div>"
            ],
            "text/plain": [
              "                    name                                              album  \\\n",
              "0        Pookkal Pookkum  Madharasapattinam (Original Motion Picture Sou...   \n",
              "1  Unakkenna Venum Sollu  Yennai Arindhaal (Original Motion Picture Soun...   \n",
              "2                 Ayyayo     Aadukalam (Original Motion Picture Soundtrack)   \n",
              "3                   Aval      Manithan (Original Motion Picture Soundtrack)   \n",
              "4            Manasilaayo     Vettaiyan (Original Motion Picture Soundtrack)   \n",
              "\n",
              "                artist release_date  length  popularity  \n",
              "0        G. V. Prakash   2010-04-04  396466          68  \n",
              "1       Harris Jayaraj   2015-01-04  308242          57  \n",
              "2        G. V. Prakash   2010-11-08  324373          68  \n",
              "3   Santhosh Narayanan   2016-04-08  266639          64  \n",
              "4  Anirudh Ravichander   2024-10-14  235629          66  "
            ]
          },
          "execution_count": 68,
          "metadata": {},
          "output_type": "execute_result"
        }
      ],
      "source": [
        "\n",
        "track_list = []\n",
        "for i in range(len(track_ids)):\n",
        "    time.sleep(.3)\n",
        "    track_data = getPlaylistFeatures(track_ids[i])\n",
        "    track_list.append(track_data)\n",
        "\n",
        "my_playlist = pd.DataFrame(track_list, columns=['name','album','artist','release_date','length','popularity'])\n",
        "my_playlist.to_csv(\"my_playlist.csv\", index=False)\n",
        "my_playlist.head()\n",
        "\n"
      ]
    },
    {
      "cell_type": "code",
      "execution_count": null,
      "metadata": {
        "colab": {
          "base_uri": "https://localhost:8080/",
          "height": 206
        },
        "id": "eqqZebcYP-CI",
        "outputId": "f963b631-ab44-47a9-91d2-efe7a60e21a3"
      },
      "outputs": [
        {
          "data": {
            "text/html": [
              "<div>\n",
              "<style scoped>\n",
              "    .dataframe tbody tr th:only-of-type {\n",
              "        vertical-align: middle;\n",
              "    }\n",
              "\n",
              "    .dataframe tbody tr th {\n",
              "        vertical-align: top;\n",
              "    }\n",
              "\n",
              "    .dataframe thead th {\n",
              "        text-align: right;\n",
              "    }\n",
              "</style>\n",
              "<table border=\"1\" class=\"dataframe\">\n",
              "  <thead>\n",
              "    <tr style=\"text-align: right;\">\n",
              "      <th></th>\n",
              "      <th>name</th>\n",
              "      <th>album</th>\n",
              "      <th>artist</th>\n",
              "      <th>release_date</th>\n",
              "      <th>length</th>\n",
              "      <th>popularity</th>\n",
              "    </tr>\n",
              "  </thead>\n",
              "  <tbody>\n",
              "    <tr>\n",
              "      <th>18</th>\n",
              "      <td>Die With A Smile</td>\n",
              "      <td>Die With A Smile</td>\n",
              "      <td>Lady Gaga</td>\n",
              "      <td>2024-08-16</td>\n",
              "      <td>251667</td>\n",
              "      <td>92</td>\n",
              "    </tr>\n",
              "    <tr>\n",
              "      <th>11</th>\n",
              "      <td>Blinding Lights</td>\n",
              "      <td>After Hours</td>\n",
              "      <td>The Weeknd</td>\n",
              "      <td>2020-03-20</td>\n",
              "      <td>200040</td>\n",
              "      <td>88</td>\n",
              "    </tr>\n",
              "    <tr>\n",
              "      <th>80</th>\n",
              "      <td>Closer</td>\n",
              "      <td>Closer</td>\n",
              "      <td>The Chainsmokers</td>\n",
              "      <td>2016-07-29</td>\n",
              "      <td>244960</td>\n",
              "      <td>86</td>\n",
              "    </tr>\n",
              "    <tr>\n",
              "      <th>6</th>\n",
              "      <td>Pardesiya - From \"Param Sundari\"</td>\n",
              "      <td>Pardesiya (From \"Param Sundari\")</td>\n",
              "      <td>Sachin-Jigar</td>\n",
              "      <td>2025-07-30</td>\n",
              "      <td>231739</td>\n",
              "      <td>82</td>\n",
              "    </tr>\n",
              "    <tr>\n",
              "      <th>58</th>\n",
              "      <td>STAY (with Justin Bieber)</td>\n",
              "      <td>STAY (with Justin Bieber)</td>\n",
              "      <td>The Kid LAROI</td>\n",
              "      <td>2021-07-09</td>\n",
              "      <td>141805</td>\n",
              "      <td>80</td>\n",
              "    </tr>\n",
              "  </tbody>\n",
              "</table>\n",
              "</div>"
            ],
            "text/plain": [
              "                                name                             album  \\\n",
              "18                  Die With A Smile                  Die With A Smile   \n",
              "11                   Blinding Lights                       After Hours   \n",
              "80                            Closer                            Closer   \n",
              "6   Pardesiya - From \"Param Sundari\"  Pardesiya (From \"Param Sundari\")   \n",
              "58         STAY (with Justin Bieber)         STAY (with Justin Bieber)   \n",
              "\n",
              "              artist release_date  length  popularity  \n",
              "18         Lady Gaga   2024-08-16  251667          92  \n",
              "11        The Weeknd   2020-03-20  200040          88  \n",
              "80  The Chainsmokers   2016-07-29  244960          86  \n",
              "6       Sachin-Jigar   2025-07-30  231739          82  \n",
              "58     The Kid LAROI   2021-07-09  141805          80  "
            ]
          },
          "execution_count": 69,
          "metadata": {},
          "output_type": "execute_result"
        }
      ],
      "source": [
        "\n",
        "high_pop = my_playlist.loc[my_playlist['popularity'] >= 60].sort_values(by=['popularity'], ascending=False)\n",
        "high_pop.head()"
      ]
    },
    {
      "cell_type": "code",
      "execution_count": null,
      "metadata": {
        "colab": {
          "base_uri": "https://localhost:8080/",
          "height": 206
        },
        "id": "XfB3-tZXXz7Z",
        "outputId": "44cb2672-ed74-4be5-ad8e-0f84e4fa0cf8"
      },
      "outputs": [
        {
          "data": {
            "text/html": [
              "<div>\n",
              "<style scoped>\n",
              "    .dataframe tbody tr th:only-of-type {\n",
              "        vertical-align: middle;\n",
              "    }\n",
              "\n",
              "    .dataframe tbody tr th {\n",
              "        vertical-align: top;\n",
              "    }\n",
              "\n",
              "    .dataframe thead th {\n",
              "        text-align: right;\n",
              "    }\n",
              "</style>\n",
              "<table border=\"1\" class=\"dataframe\">\n",
              "  <thead>\n",
              "    <tr style=\"text-align: right;\">\n",
              "      <th></th>\n",
              "      <th>name</th>\n",
              "      <th>album</th>\n",
              "      <th>artist</th>\n",
              "      <th>release_date</th>\n",
              "      <th>length</th>\n",
              "      <th>popularity</th>\n",
              "    </tr>\n",
              "  </thead>\n",
              "  <tbody>\n",
              "    <tr>\n",
              "      <th>21</th>\n",
              "      <td>Nillayo</td>\n",
              "      <td>Oru Kadhal Megam</td>\n",
              "      <td>Various Artists</td>\n",
              "      <td>2017-03-13</td>\n",
              "      <td>252688</td>\n",
              "      <td>0</td>\n",
              "    </tr>\n",
              "    <tr>\n",
              "      <th>36</th>\n",
              "      <td>Kaadhal Vaithu</td>\n",
              "      <td>Deepavali (Original Motion Picture Soundtrack)</td>\n",
              "      <td>Yuvan Shankar Raja</td>\n",
              "      <td>2007-01-05</td>\n",
              "      <td>309000</td>\n",
              "      <td>0</td>\n",
              "    </tr>\n",
              "    <tr>\n",
              "      <th>35</th>\n",
              "      <td>Vennilavae</td>\n",
              "      <td>Minsara Kanavu (Original Motion Picture Soundt...</td>\n",
              "      <td>A.R. Rahman</td>\n",
              "      <td>1997-01-01</td>\n",
              "      <td>351720</td>\n",
              "      <td>0</td>\n",
              "    </tr>\n",
              "    <tr>\n",
              "      <th>57</th>\n",
              "      <td>Ennuyire</td>\n",
              "      <td>Uyire (Original Motion Picture Soundtrack)</td>\n",
              "      <td>A.R. Rahman</td>\n",
              "      <td>1998-09-18</td>\n",
              "      <td>442004</td>\n",
              "      <td>0</td>\n",
              "    </tr>\n",
              "    <tr>\n",
              "      <th>54</th>\n",
              "      <td>Maari’s Aanandhi</td>\n",
              "      <td>Maari 2 (Original Motion Picture Soundtrack)</td>\n",
              "      <td>Yuvan Shankar Raja,Dhanush,Dhee</td>\n",
              "      <td>2018-12-11</td>\n",
              "      <td>259591</td>\n",
              "      <td>0</td>\n",
              "    </tr>\n",
              "  </tbody>\n",
              "</table>\n",
              "</div>"
            ],
            "text/plain": [
              "                name                                              album  \\\n",
              "21           Nillayo                                   Oru Kadhal Megam   \n",
              "36    Kaadhal Vaithu     Deepavali (Original Motion Picture Soundtrack)   \n",
              "35        Vennilavae  Minsara Kanavu (Original Motion Picture Soundt...   \n",
              "57          Ennuyire         Uyire (Original Motion Picture Soundtrack)   \n",
              "54  Maari’s Aanandhi       Maari 2 (Original Motion Picture Soundtrack)   \n",
              "\n",
              "                             artist release_date  length  popularity  \n",
              "21                  Various Artists   2017-03-13  252688           0  \n",
              "36               Yuvan Shankar Raja   2007-01-05  309000           0  \n",
              "35                      A.R. Rahman   1997-01-01  351720           0  \n",
              "57                      A.R. Rahman   1998-09-18  442004           0  \n",
              "54  Yuvan Shankar Raja,Dhanush,Dhee   2018-12-11  259591           0  "
            ]
          },
          "execution_count": 70,
          "metadata": {},
          "output_type": "execute_result"
        }
      ],
      "source": [
        "low_pop = my_playlist.loc[my_playlist['popularity'] < 60].sort_values(by=['popularity'],ascending = True)\n",
        "low_pop.head()"
      ]
    },
    {
      "cell_type": "code",
      "execution_count": 71,
      "metadata": {
        "colab": {
          "base_uri": "https://localhost:8080/"
        },
        "id": "DTXtaAw2Y4wv",
        "outputId": "77e63149-7da0-4dd5-b404-0cc4a6512243"
      },
      "outputs": [
        {
          "data": {
            "text/plain": [
              "Index(['name', 'album', 'artist', 'release_date', 'length', 'popularity'], dtype='object')"
            ]
          },
          "execution_count": 71,
          "metadata": {},
          "output_type": "execute_result"
        }
      ],
      "source": [
        "low_pop.columns"
      ]
    },
    {
      "cell_type": "code",
      "execution_count": 72,
      "metadata": {
        "colab": {
          "base_uri": "https://localhost:8080/",
          "height": 542
        },
        "id": "ABN1xQkRYntm",
        "outputId": "a13d3384-7b78-4c0a-bdce-c006528e99dc"
      },
      "outputs": [
        {
          "data": {
            "application/vnd.plotly.v1+json": {
              "config": {
                "plotlyServerURL": "https://plot.ly"
              },
              "data": [
                {
                  "hovertemplate": "<b>%{hovertext}</b><br><br>artist=G. V. Prakash<br>length=%{x}<br>popularity=%{y}<extra></extra>",
                  "hovertext": [
                    "Pookkal Pookkum",
                    "Ayyayo",
                    "Sandalee",
                    "Kaathodu Kaathanen (From \"Jail\")",
                    "Yaar Indha Saalai Oram (From \"Thalaivaa\")",
                    "Naan Sonnadhum Mazhai",
                    "Kadhal Yen Kadhal",
                    "Yaar Indha Saalai Oram",
                    "Pirai Thedum",
                    "Yedhedho Pennae",
                    "Manasellam Mazhaiye",
                    "Akkam Pakkam"
                  ],
                  "legendgroup": "G. V. Prakash",
                  "marker": {
                    "color": "#636efa",
                    "symbol": "circle"
                  },
                  "mode": "markers",
                  "name": "G. V. Prakash",
                  "orientation": "v",
                  "showlegend": true,
                  "type": "scatter",
                  "x": {
                    "bdata": "sgwGABXzBABN7wQA8LoEAGXQBAC4CAUAVpsFAGXQBACnEwUAv0QEAF/7BABg0gQA",
                    "dtype": "i4"
                  },
                  "xaxis": "x",
                  "y": {
                    "bdata": "REQ4Li4AAEEANjY+",
                    "dtype": "i1"
                  },
                  "yaxis": "y"
                },
                {
                  "hovertemplate": "<b>%{hovertext}</b><br><br>artist=Harris Jayaraj<br>length=%{x}<br>popularity=%{y}<extra></extra>",
                  "hovertext": [
                    "Unakkenna Venum Sollu",
                    "Mundhinam",
                    "Thodu Vaanam",
                    "Idhayathai Yedho Ondru",
                    "Oru Manam (From \"Dhruva Natchathiram\")",
                    "Yaaro Yaaro",
                    "Paartha Mudhal"
                  ],
                  "legendgroup": "Harris Jayaraj",
                  "marker": {
                    "color": "#EF553B",
                    "symbol": "circle"
                  },
                  "mode": "markers",
                  "name": "Harris Jayaraj",
                  "orientation": "v",
                  "showlegend": true,
                  "type": "scatter",
                  "x": {
                    "bdata": "ErQEAIo1BQBNzwQAf5cDAB4xBQCqHwUAtZ0FAA==",
                    "dtype": "i4"
                  },
                  "xaxis": "x",
                  "y": {
                    "bdata": "OUM+Ojc4AA==",
                    "dtype": "i1"
                  },
                  "yaxis": "y"
                },
                {
                  "hovertemplate": "<b>%{hovertext}</b><br><br>artist=Santhosh Narayanan<br>length=%{x}<br>popularity=%{y}<extra></extra>",
                  "hovertext": [
                    "Aval",
                    "Ei Suzhali",
                    "Kaathellam",
                    "Agayam Theepiditha"
                  ],
                  "legendgroup": "Santhosh Narayanan",
                  "marker": {
                    "color": "#00cc96",
                    "symbol": "circle"
                  },
                  "mode": "markers",
                  "name": "Santhosh Narayanan",
                  "orientation": "v",
                  "showlegend": true,
                  "type": "scatter",
                  "x": {
                    "bdata": "jxEEAHNRAwAaagMAroIDAA==",
                    "dtype": "i4"
                  },
                  "xaxis": "x",
                  "y": {
                    "bdata": "QD0uOg==",
                    "dtype": "i1"
                  },
                  "yaxis": "y"
                },
                {
                  "hovertemplate": "<b>%{hovertext}</b><br><br>artist=Anirudh Ravichander<br>length=%{x}<br>popularity=%{y}<extra></extra>",
                  "hovertext": [
                    "Manasilaayo",
                    "Nee Paartha Vizhigal - The Touch of Love"
                  ],
                  "legendgroup": "Anirudh Ravichander",
                  "marker": {
                    "color": "#ab63fa",
                    "symbol": "circle"
                  },
                  "mode": "markers",
                  "name": "Anirudh Ravichander",
                  "orientation": "v",
                  "showlegend": true,
                  "type": "scatter",
                  "x": {
                    "bdata": "bZgDADoJBAA=",
                    "dtype": "i4"
                  },
                  "xaxis": "x",
                  "y": {
                    "bdata": "QkU=",
                    "dtype": "i1"
                  },
                  "yaxis": "y"
                },
                {
                  "hovertemplate": "<b>%{hovertext}</b><br><br>artist=Nivas K Prasanna<br>length=%{x}<br>popularity=%{y}<extra></extra>",
                  "hovertext": [
                    "Vinmeen"
                  ],
                  "legendgroup": "Nivas K Prasanna",
                  "marker": {
                    "color": "#FFA15A",
                    "symbol": "circle"
                  },
                  "mode": "markers",
                  "name": "Nivas K Prasanna",
                  "orientation": "v",
                  "showlegend": true,
                  "type": "scatter",
                  "x": {
                    "bdata": "w4cEAA==",
                    "dtype": "i4"
                  },
                  "xaxis": "x",
                  "y": {
                    "bdata": "QQ==",
                    "dtype": "i1"
                  },
                  "yaxis": "y"
                },
                {
                  "hovertemplate": "<b>%{hovertext}</b><br><br>artist=Sachin-Jigar<br>length=%{x}<br>popularity=%{y}<extra></extra>",
                  "hovertext": [
                    "Pardesiya - From \"Param Sundari\""
                  ],
                  "legendgroup": "Sachin-Jigar",
                  "marker": {
                    "color": "#19d3f3",
                    "symbol": "circle"
                  },
                  "mode": "markers",
                  "name": "Sachin-Jigar",
                  "orientation": "v",
                  "showlegend": true,
                  "type": "scatter",
                  "x": {
                    "bdata": "O4kDAA==",
                    "dtype": "i4"
                  },
                  "xaxis": "x",
                  "y": {
                    "bdata": "Ug==",
                    "dtype": "i1"
                  },
                  "yaxis": "y"
                },
                {
                  "hovertemplate": "<b>%{hovertext}</b><br><br>artist=Yuvan Shankar Raja<br>length=%{x}<br>popularity=%{y}<extra></extra>",
                  "hovertext": [
                    "Kadhal Aasai",
                    "Iayyayo",
                    "Venmegam",
                    "Enkeyoo Partha",
                    "Kaadhal Vaithu",
                    "Kaadhal Endral",
                    "Ninaithu Ninaithu (From \"7/G Rainbow Colony\")",
                    "Oru Devathai (From \"Vaamanan\")",
                    "Thuli Thuli (From \"Paiya\")",
                    "Konjum Kili",
                    "Arabu Naadu",
                    "Oru Naalaikkul",
                    "Kan Pesum Varthaigal",
                    "Ariyadha Vayasu",
                    "Vaartha Onnu"
                  ],
                  "legendgroup": "Yuvan Shankar Raja",
                  "marker": {
                    "color": "#FF6692",
                    "symbol": "circle"
                  },
                  "mode": "markers",
                  "name": "Yuvan Shankar Raja",
                  "orientation": "v",
                  "showlegend": true,
                  "type": "scatter",
                  "x": {
                    "bdata": "hqIEAEkyBAClMQQAwOUEAAi3BABdVAEAkjEEADiHBADSUgQAnPgDAN3pBABiMAUAglAFAG2CAwBy0AQA",
                    "dtype": "i4"
                  },
                  "xaxis": "x",
                  "y": {
                    "bdata": "PzZCQgA5MDc1Lyo7OzIs",
                    "dtype": "i1"
                  },
                  "yaxis": "y"
                },
                {
                  "hovertemplate": "<b>%{hovertext}</b><br><br>artist=Shashwat Sachdev<br>length=%{x}<br>popularity=%{y}<extra></extra>",
                  "hovertext": [
                    "Tu Pehli Tu Aakhri (From \"The Ba***ds Of Bollywood\")"
                  ],
                  "legendgroup": "Shashwat Sachdev",
                  "marker": {
                    "color": "#B6E880",
                    "symbol": "circle"
                  },
                  "mode": "markers",
                  "name": "Shashwat Sachdev",
                  "orientation": "v",
                  "showlegend": true,
                  "type": "scatter",
                  "x": {
                    "bdata": "fA0DAA==",
                    "dtype": "i4"
                  },
                  "xaxis": "x",
                  "y": {
                    "bdata": "Nw==",
                    "dtype": "i1"
                  },
                  "yaxis": "y"
                },
                {
                  "hovertemplate": "<b>%{hovertext}</b><br><br>artist=The Weeknd<br>length=%{x}<br>popularity=%{y}<extra></extra>",
                  "hovertext": [
                    "Blinding Lights"
                  ],
                  "legendgroup": "The Weeknd",
                  "marker": {
                    "color": "#FF97FF",
                    "symbol": "circle"
                  },
                  "mode": "markers",
                  "name": "The Weeknd",
                  "orientation": "v",
                  "showlegend": true,
                  "type": "scatter",
                  "x": {
                    "bdata": "aA0DAA==",
                    "dtype": "i4"
                  },
                  "xaxis": "x",
                  "y": {
                    "bdata": "WA==",
                    "dtype": "i1"
                  },
                  "yaxis": "y"
                },
                {
                  "hovertemplate": "<b>%{hovertext}</b><br><br>artist=Shravan Sridhar<br>length=%{x}<br>popularity=%{y}<extra></extra>",
                  "hovertext": [
                    "Will You Be Mine",
                    "Nee Irundhal"
                  ],
                  "legendgroup": "Shravan Sridhar",
                  "marker": {
                    "color": "#FECB52",
                    "symbol": "circle"
                  },
                  "mode": "markers",
                  "name": "Shravan Sridhar",
                  "orientation": "v",
                  "showlegend": true,
                  "type": "scatter",
                  "x": {
                    "bdata": "GN4CAKH0AgA=",
                    "dtype": "i4"
                  },
                  "xaxis": "x",
                  "y": {
                    "bdata": "ISU=",
                    "dtype": "i1"
                  },
                  "yaxis": "y"
                },
                {
                  "hovertemplate": "<b>%{hovertext}</b><br><br>artist=Dhibu Ninan Thomas<br>length=%{x}<br>popularity=%{y}<extra></extra>",
                  "hovertext": [
                    "Nee Kavithaigala",
                    "Kangal Edho - From \"Chithha\"",
                    "Othaiyadi Pathayila"
                  ],
                  "legendgroup": "Dhibu Ninan Thomas",
                  "marker": {
                    "color": "#636efa",
                    "symbol": "circle"
                  },
                  "mode": "markers",
                  "name": "Dhibu Ninan Thomas",
                  "orientation": "v",
                  "showlegend": true,
                  "type": "scatter",
                  "x": {
                    "bdata": "GjcEAEmyAwBHzwMA",
                    "dtype": "i4"
                  },
                  "xaxis": "x",
                  "y": {
                    "bdata": "Qz9E",
                    "dtype": "i1"
                  },
                  "yaxis": "y"
                },
                {
                  "hovertemplate": "<b>%{hovertext}</b><br><br>artist=Faheem Abdullah<br>length=%{x}<br>popularity=%{y}<extra></extra>",
                  "hovertext": [
                    "Ae Yaad",
                    "Sajde - From \"Lost;Found\"",
                    "Sajde - From \"Lost;Found\""
                  ],
                  "legendgroup": "Faheem Abdullah",
                  "marker": {
                    "color": "#EF553B",
                    "symbol": "circle"
                  },
                  "mode": "markers",
                  "name": "Faheem Abdullah",
                  "orientation": "v",
                  "showlegend": true,
                  "type": "scatter",
                  "x": {
                    "bdata": "2g8DACEIBwAhCAcA",
                    "dtype": "i4"
                  },
                  "xaxis": "x",
                  "y": {
                    "bdata": "Q0dH",
                    "dtype": "i1"
                  },
                  "yaxis": "y"
                },
                {
                  "hovertemplate": "<b>%{hovertext}</b><br><br>artist=Justin Prabhakaran<br>length=%{x}<br>popularity=%{y}<extra></extra>",
                  "hovertext": [
                    "Adiyae Azhagae - From \"Oru Naal Koothu\""
                  ],
                  "legendgroup": "Justin Prabhakaran",
                  "marker": {
                    "color": "#00cc96",
                    "symbol": "circle"
                  },
                  "mode": "markers",
                  "name": "Justin Prabhakaran",
                  "orientation": "v",
                  "showlegend": true,
                  "type": "scatter",
                  "x": {
                    "bdata": "fGoEAA==",
                    "dtype": "i4"
                  },
                  "xaxis": "x",
                  "y": {
                    "bdata": "Pw==",
                    "dtype": "i1"
                  },
                  "yaxis": "y"
                },
                {
                  "hovertemplate": "<b>%{hovertext}</b><br><br>artist=Lady Gaga<br>length=%{x}<br>popularity=%{y}<extra></extra>",
                  "hovertext": [
                    "Die With A Smile"
                  ],
                  "legendgroup": "Lady Gaga",
                  "marker": {
                    "color": "#ab63fa",
                    "symbol": "circle"
                  },
                  "mode": "markers",
                  "name": "Lady Gaga",
                  "orientation": "v",
                  "showlegend": true,
                  "type": "scatter",
                  "x": {
                    "bdata": "E9cDAA==",
                    "dtype": "i4"
                  },
                  "xaxis": "x",
                  "y": {
                    "bdata": "XA==",
                    "dtype": "i1"
                  },
                  "yaxis": "y"
                },
                {
                  "hovertemplate": "<b>%{hovertext}</b><br><br>artist=Various Artists<br>length=%{x}<br>popularity=%{y}<extra></extra>",
                  "hovertext": [
                    "Nillayo",
                    "Kanave Kanave",
                    "A Life Full of Love Theme (From \"3 [Tamil]\") - Instrumental",
                    "Elangathu - Duet",
                    "Uyire Uyire",
                    "Unna Vida",
                    "Ennadi Maayavi Nee"
                  ],
                  "legendgroup": "Various Artists",
                  "marker": {
                    "color": "#FFA15A",
                    "symbol": "circle"
                  },
                  "mode": "markers",
                  "name": "Various Artists",
                  "orientation": "v",
                  "showlegend": true,
                  "type": "scatter",
                  "x": {
                    "bdata": "ENsDAHBYBACNxAEAbaQFANAuBADK4AUAeNQDAA==",
                    "dtype": "i4"
                  },
                  "xaxis": "x",
                  "y": {
                    "bdata": "AEIgNjgAAA==",
                    "dtype": "i1"
                  },
                  "yaxis": "y"
                },
                {
                  "hovertemplate": "<b>%{hovertext}</b><br><br>artist=Marshall Robinson<br>length=%{x}<br>popularity=%{y}<extra></extra>",
                  "hovertext": [
                    "Edhirpaarthen"
                  ],
                  "legendgroup": "Marshall Robinson",
                  "marker": {
                    "color": "#19d3f3",
                    "symbol": "circle"
                  },
                  "mode": "markers",
                  "name": "Marshall Robinson",
                  "orientation": "v",
                  "showlegend": true,
                  "type": "scatter",
                  "x": {
                    "bdata": "rEcDAA==",
                    "dtype": "i4"
                  },
                  "xaxis": "x",
                  "y": {
                    "bdata": "IA==",
                    "dtype": "i1"
                  },
                  "yaxis": "y"
                },
                {
                  "hovertemplate": "<b>%{hovertext}</b><br><br>artist=A.R. Rahman<br>length=%{x}<br>popularity=%{y}<extra></extra>",
                  "hovertext": [
                    "Usure Pogudhey",
                    "Innum Konjam Naeram",
                    "Vennilavae",
                    "Kaadhal kaditham",
                    "Ennuyire",
                    "Munbe Vaa",
                    "Vennilave Vennilave Vinnai"
                  ],
                  "legendgroup": "A.R. Rahman",
                  "marker": {
                    "color": "#FF6692",
                    "symbol": "circle"
                  },
                  "mode": "markers",
                  "name": "A.R. Rahman",
                  "orientation": "v",
                  "showlegend": true,
                  "type": "scatter",
                  "x": {
                    "bdata": "qpcFAL3IBADoXQUAbIkEAJS+BgBNcgUA6F0FAA==",
                    "dtype": "i4"
                  },
                  "xaxis": "x",
                  "y": {
                    "bdata": "P0MAMAAAAA==",
                    "dtype": "i1"
                  },
                  "yaxis": "y"
                },
                {
                  "hovertemplate": "<b>%{hovertext}</b><br><br>artist=The Non Violinist Project<br>length=%{x}<br>popularity=%{y}<extra></extra>",
                  "hovertext": [
                    "Ulaa (feat. Sathyaprakash)"
                  ],
                  "legendgroup": "The Non Violinist Project",
                  "marker": {
                    "color": "#B6E880",
                    "symbol": "circle"
                  },
                  "mode": "markers",
                  "name": "The Non Violinist Project",
                  "orientation": "v",
                  "showlegend": true,
                  "type": "scatter",
                  "x": {
                    "bdata": "RwwEAA==",
                    "dtype": "i4"
                  },
                  "xaxis": "x",
                  "y": {
                    "bdata": "KA==",
                    "dtype": "i1"
                  },
                  "yaxis": "y"
                },
                {
                  "hovertemplate": "<b>%{hovertext}</b><br><br>artist=Santhosh Dhayanidhi<br>length=%{x}<br>popularity=%{y}<extra></extra>",
                  "hovertext": [
                    "Raati - Madras Gig"
                  ],
                  "legendgroup": "Santhosh Dhayanidhi",
                  "marker": {
                    "color": "#FF97FF",
                    "symbol": "circle"
                  },
                  "mode": "markers",
                  "name": "Santhosh Dhayanidhi",
                  "orientation": "v",
                  "showlegend": true,
                  "type": "scatter",
                  "x": {
                    "bdata": "+JUDAA==",
                    "dtype": "i4"
                  },
                  "xaxis": "x",
                  "y": {
                    "bdata": "OA==",
                    "dtype": "i1"
                  },
                  "yaxis": "y"
                },
                {
                  "hovertemplate": "<b>%{hovertext}</b><br><br>artist=Thaman S<br>length=%{x}<br>popularity=%{y}<extra></extra>",
                  "hovertext": [
                    "Firestorm (From \"They Call Him OG\")"
                  ],
                  "legendgroup": "Thaman S",
                  "marker": {
                    "color": "#FECB52",
                    "symbol": "circle"
                  },
                  "mode": "markers",
                  "name": "Thaman S",
                  "orientation": "v",
                  "showlegend": true,
                  "type": "scatter",
                  "x": {
                    "bdata": "taoDAA==",
                    "dtype": "i4"
                  },
                  "xaxis": "x",
                  "y": {
                    "bdata": "SA==",
                    "dtype": "i1"
                  },
                  "yaxis": "y"
                },
                {
                  "hovertemplate": "<b>%{hovertext}</b><br><br>artist=Leon James<br>length=%{x}<br>popularity=%{y}<extra></extra>",
                  "hovertext": [
                    "Kadhaippoma (From \"Oh My Kadavule\")",
                    "Kadhaippoma"
                  ],
                  "legendgroup": "Leon James",
                  "marker": {
                    "color": "#636efa",
                    "symbol": "circle"
                  },
                  "mode": "markers",
                  "name": "Leon James",
                  "orientation": "v",
                  "showlegend": true,
                  "type": "scatter",
                  "x": {
                    "bdata": "YE4EAGBOBAA=",
                    "dtype": "i4"
                  },
                  "xaxis": "x",
                  "y": {
                    "bdata": "QzU=",
                    "dtype": "i1"
                  },
                  "yaxis": "y"
                },
                {
                  "hovertemplate": "<b>%{hovertext}</b><br><br>artist=Paal Payasam<br>length=%{x}<br>popularity=%{y}<extra></extra>",
                  "hovertext": [
                    "Poi Kadhal"
                  ],
                  "legendgroup": "Paal Payasam",
                  "marker": {
                    "color": "#EF553B",
                    "symbol": "circle"
                  },
                  "mode": "markers",
                  "name": "Paal Payasam",
                  "orientation": "v",
                  "showlegend": true,
                  "type": "scatter",
                  "x": {
                    "bdata": "fC0DAA==",
                    "dtype": "i4"
                  },
                  "xaxis": "x",
                  "y": {
                    "bdata": "Ig==",
                    "dtype": "i1"
                  },
                  "yaxis": "y"
                },
                {
                  "hovertemplate": "<b>%{hovertext}</b><br><br>artist=Mirun Pradhap<br>length=%{x}<br>popularity=%{y}<extra></extra>",
                  "hovertext": [
                    "Arakkiye"
                  ],
                  "legendgroup": "Mirun Pradhap",
                  "marker": {
                    "color": "#00cc96",
                    "symbol": "circle"
                  },
                  "mode": "markers",
                  "name": "Mirun Pradhap",
                  "orientation": "v",
                  "showlegend": true,
                  "type": "scatter",
                  "x": {
                    "bdata": "gHcDAA==",
                    "dtype": "i4"
                  },
                  "xaxis": "x",
                  "y": {
                    "bdata": "Iw==",
                    "dtype": "i1"
                  },
                  "yaxis": "y"
                },
                {
                  "hovertemplate": "<b>%{hovertext}</b><br><br>artist=Bhuvanesh Selvanesan<br>length=%{x}<br>popularity=%{y}<extra></extra>",
                  "hovertext": [
                    "Sakara Kati"
                  ],
                  "legendgroup": "Bhuvanesh Selvanesan",
                  "marker": {
                    "color": "#ab63fa",
                    "symbol": "circle"
                  },
                  "mode": "markers",
                  "name": "Bhuvanesh Selvanesan",
                  "orientation": "v",
                  "showlegend": true,
                  "type": "scatter",
                  "x": {
                    "bdata": "+8oDAA==",
                    "dtype": "i4"
                  },
                  "xaxis": "x",
                  "y": {
                    "bdata": "IA==",
                    "dtype": "i1"
                  },
                  "yaxis": "y"
                },
                {
                  "hovertemplate": "<b>%{hovertext}</b><br><br>artist=Rama Priya Yegasivanathan<br>length=%{x}<br>popularity=%{y}<extra></extra>",
                  "hovertext": [
                    "Sugar Bomb"
                  ],
                  "legendgroup": "Rama Priya Yegasivanathan",
                  "marker": {
                    "color": "#FFA15A",
                    "symbol": "circle"
                  },
                  "mode": "markers",
                  "name": "Rama Priya Yegasivanathan",
                  "orientation": "v",
                  "showlegend": true,
                  "type": "scatter",
                  "x": {
                    "bdata": "7PECAA==",
                    "dtype": "i4"
                  },
                  "xaxis": "x",
                  "y": {
                    "bdata": "HQ==",
                    "dtype": "i1"
                  },
                  "yaxis": "y"
                },
                {
                  "hovertemplate": "<b>%{hovertext}</b><br><br>artist=D. Imman<br>length=%{x}<br>popularity=%{y}<extra></extra>",
                  "hovertext": [
                    "Onnum Puriyala",
                    "Nanbiye",
                    "Marandhaye",
                    "Nee Yeppo Pulla",
                    "Sollitaley Ava Kaadhala"
                  ],
                  "legendgroup": "D. Imman",
                  "marker": {
                    "color": "#19d3f3",
                    "symbol": "circle"
                  },
                  "mode": "markers",
                  "name": "D. Imman",
                  "orientation": "v",
                  "showlegend": true,
                  "type": "scatter",
                  "x": {
                    "bdata": "YPYDAAoQBAApkQQAhawDACotBAA=",
                    "dtype": "i4"
                  },
                  "xaxis": "x",
                  "y": {
                    "bdata": "OzAzOTY=",
                    "dtype": "i1"
                  },
                  "yaxis": "y"
                },
                {
                  "hovertemplate": "<b>%{hovertext}</b><br><br>artist=Akira Da Rapwolf<br>length=%{x}<br>popularity=%{y}<extra></extra>",
                  "hovertext": [
                    "I'm Just Fine"
                  ],
                  "legendgroup": "Akira Da Rapwolf",
                  "marker": {
                    "color": "#FF6692",
                    "symbol": "circle"
                  },
                  "mode": "markers",
                  "name": "Akira Da Rapwolf",
                  "orientation": "v",
                  "showlegend": true,
                  "type": "scatter",
                  "x": {
                    "bdata": "c1UDAA==",
                    "dtype": "i4"
                  },
                  "xaxis": "x",
                  "y": {
                    "bdata": "Hg==",
                    "dtype": "i1"
                  },
                  "yaxis": "y"
                },
                {
                  "hovertemplate": "<b>%{hovertext}</b><br><br>artist=Ghibran<br>length=%{x}<br>popularity=%{y}<extra></extra>",
                  "hovertext": [
                    "Thaarame Thaarame"
                  ],
                  "legendgroup": "Ghibran",
                  "marker": {
                    "color": "#B6E880",
                    "symbol": "circle"
                  },
                  "mode": "markers",
                  "name": "Ghibran",
                  "orientation": "v",
                  "showlegend": true,
                  "type": "scatter",
                  "x": {
                    "bdata": "dnsDAA==",
                    "dtype": "i4"
                  },
                  "xaxis": "x",
                  "y": {
                    "bdata": "QA==",
                    "dtype": "i1"
                  },
                  "yaxis": "y"
                },
                {
                  "hovertemplate": "<b>%{hovertext}</b><br><br>artist=Sam C.S.<br>length=%{x}<br>popularity=%{y}<extra></extra>",
                  "hovertext": [
                    "Yaanji"
                  ],
                  "legendgroup": "Sam C.S.",
                  "marker": {
                    "color": "#FF97FF",
                    "symbol": "circle"
                  },
                  "mode": "markers",
                  "name": "Sam C.S.",
                  "orientation": "v",
                  "showlegend": true,
                  "type": "scatter",
                  "x": {
                    "bdata": "JyAEAA==",
                    "dtype": "i4"
                  },
                  "xaxis": "x",
                  "y": {
                    "bdata": "OQ==",
                    "dtype": "i1"
                  },
                  "yaxis": "y"
                },
                {
                  "hovertemplate": "<b>%{hovertext}</b><br><br>artist=Sri<br>length=%{x}<br>popularity=%{y}<extra></extra>",
                  "hovertext": [
                    "Pazhaya Soru"
                  ],
                  "legendgroup": "Sri",
                  "marker": {
                    "color": "#FECB52",
                    "symbol": "circle"
                  },
                  "mode": "markers",
                  "name": "Sri",
                  "orientation": "v",
                  "showlegend": true,
                  "type": "scatter",
                  "x": {
                    "bdata": "GE0EAA==",
                    "dtype": "i4"
                  },
                  "xaxis": "x",
                  "y": {
                    "bdata": "Kg==",
                    "dtype": "i1"
                  },
                  "yaxis": "y"
                },
                {
                  "hovertemplate": "<b>%{hovertext}</b><br><br>artist=Yuvan Shankar Raja,Dhanush,Dhee<br>length=%{x}<br>popularity=%{y}<extra></extra>",
                  "hovertext": [
                    "Maari’s Aanandhi"
                  ],
                  "legendgroup": "Yuvan Shankar Raja,Dhanush,Dhee",
                  "marker": {
                    "color": "#636efa",
                    "symbol": "circle"
                  },
                  "mode": "markers",
                  "name": "Yuvan Shankar Raja,Dhanush,Dhee",
                  "orientation": "v",
                  "showlegend": true,
                  "type": "scatter",
                  "x": {
                    "bdata": "B/YDAA==",
                    "dtype": "i4"
                  },
                  "xaxis": "x",
                  "y": {
                    "bdata": "AA==",
                    "dtype": "i1"
                  },
                  "yaxis": "y"
                },
                {
                  "hovertemplate": "<b>%{hovertext}</b><br><br>artist=The Kid LAROI<br>length=%{x}<br>popularity=%{y}<extra></extra>",
                  "hovertext": [
                    "STAY (with Justin Bieber)"
                  ],
                  "legendgroup": "The Kid LAROI",
                  "marker": {
                    "color": "#EF553B",
                    "symbol": "circle"
                  },
                  "mode": "markers",
                  "name": "The Kid LAROI",
                  "orientation": "v",
                  "showlegend": true,
                  "type": "scatter",
                  "x": {
                    "bdata": "7SkCAA==",
                    "dtype": "i4"
                  },
                  "xaxis": "x",
                  "y": {
                    "bdata": "UA==",
                    "dtype": "i1"
                  },
                  "yaxis": "y"
                },
                {
                  "hovertemplate": "<b>%{hovertext}</b><br><br>artist=Rajesh Murugesan<br>length=%{x}<br>popularity=%{y}<extra></extra>",
                  "hovertext": [
                    "Malare"
                  ],
                  "legendgroup": "Rajesh Murugesan",
                  "marker": {
                    "color": "#00cc96",
                    "symbol": "circle"
                  },
                  "mode": "markers",
                  "name": "Rajesh Murugesan",
                  "orientation": "v",
                  "showlegend": true,
                  "type": "scatter",
                  "x": {
                    "bdata": "h9QEAA==",
                    "dtype": "i4"
                  },
                  "xaxis": "x",
                  "y": {
                    "bdata": "Ow==",
                    "dtype": "i1"
                  },
                  "yaxis": "y"
                },
                {
                  "hovertemplate": "<b>%{hovertext}</b><br><br>artist=JERRY<br>length=%{x}<br>popularity=%{y}<extra></extra>",
                  "hovertext": [
                    "President"
                  ],
                  "legendgroup": "JERRY",
                  "marker": {
                    "color": "#ab63fa",
                    "symbol": "circle"
                  },
                  "mode": "markers",
                  "name": "JERRY",
                  "orientation": "v",
                  "showlegend": true,
                  "type": "scatter",
                  "x": {
                    "bdata": "LbMBAA==",
                    "dtype": "i4"
                  },
                  "xaxis": "x",
                  "y": {
                    "bdata": "Pw==",
                    "dtype": "i1"
                  },
                  "yaxis": "y"
                },
                {
                  "hovertemplate": "<b>%{hovertext}</b><br><br>artist=Vathshan<br>length=%{x}<br>popularity=%{y}<extra></extra>",
                  "hovertext": [
                    "Mastana"
                  ],
                  "legendgroup": "Vathshan",
                  "marker": {
                    "color": "#FFA15A",
                    "symbol": "circle"
                  },
                  "mode": "markers",
                  "name": "Vathshan",
                  "orientation": "v",
                  "showlegend": true,
                  "type": "scatter",
                  "x": {
                    "bdata": "4IYCAA==",
                    "dtype": "i4"
                  },
                  "xaxis": "x",
                  "y": {
                    "bdata": "Lw==",
                    "dtype": "i1"
                  },
                  "yaxis": "y"
                },
                {
                  "hovertemplate": "<b>%{hovertext}</b><br><br>artist=The Chainsmokers<br>length=%{x}<br>popularity=%{y}<extra></extra>",
                  "hovertext": [
                    "Closer"
                  ],
                  "legendgroup": "The Chainsmokers",
                  "marker": {
                    "color": "#19d3f3",
                    "symbol": "circle"
                  },
                  "mode": "markers",
                  "name": "The Chainsmokers",
                  "orientation": "v",
                  "showlegend": true,
                  "type": "scatter",
                  "x": {
                    "bdata": "4LwDAA==",
                    "dtype": "i4"
                  },
                  "xaxis": "x",
                  "y": {
                    "bdata": "Vg==",
                    "dtype": "i1"
                  },
                  "yaxis": "y"
                },
                {
                  "hovertemplate": "<b>%{hovertext}</b><br><br>artist=Amaal Mallik<br>length=%{x}<br>popularity=%{y}<extra></extra>",
                  "hovertext": [
                    "Konjam -1"
                  ],
                  "legendgroup": "Amaal Mallik",
                  "marker": {
                    "color": "#FF6692",
                    "symbol": "circle"
                  },
                  "mode": "markers",
                  "name": "Amaal Mallik",
                  "orientation": "v",
                  "showlegend": true,
                  "type": "scatter",
                  "x": {
                    "bdata": "dqYCAA==",
                    "dtype": "i4"
                  },
                  "xaxis": "x",
                  "y": {
                    "bdata": "NA==",
                    "dtype": "i1"
                  },
                  "yaxis": "y"
                },
                {
                  "hovertemplate": "<b>%{hovertext}</b><br><br>artist=PAX DHARMA<br>length=%{x}<br>popularity=%{y}<extra></extra>",
                  "hovertext": [
                    "kaatukulle"
                  ],
                  "legendgroup": "PAX DHARMA",
                  "marker": {
                    "color": "#B6E880",
                    "symbol": "circle"
                  },
                  "mode": "markers",
                  "name": "PAX DHARMA",
                  "orientation": "v",
                  "showlegend": true,
                  "type": "scatter",
                  "x": {
                    "bdata": "zyoDAA==",
                    "dtype": "i4"
                  },
                  "xaxis": "x",
                  "y": {
                    "bdata": "Gg==",
                    "dtype": "i1"
                  },
                  "yaxis": "y"
                },
                {
                  "hovertemplate": "<b>%{hovertext}</b><br><br>artist=Anirudh Ravichander,Andrea<br>length=%{x}<br>popularity=%{y}<extra></extra>",
                  "hovertext": [
                    "Nenjukulla Nee"
                  ],
                  "legendgroup": "Anirudh Ravichander,Andrea",
                  "marker": {
                    "color": "#FF97FF",
                    "symbol": "circle"
                  },
                  "mode": "markers",
                  "name": "Anirudh Ravichander,Andrea",
                  "orientation": "v",
                  "showlegend": true,
                  "type": "scatter",
                  "x": {
                    "bdata": "CI8EAA==",
                    "dtype": "i4"
                  },
                  "xaxis": "x",
                  "y": {
                    "bdata": "AA==",
                    "dtype": "i1"
                  },
                  "yaxis": "y"
                },
                {
                  "hovertemplate": "<b>%{hovertext}</b><br><br>artist=Ilaiyaraaja<br>length=%{x}<br>popularity=%{y}<extra></extra>",
                  "hovertext": [
                    "Vaanam Mella",
                    "Oliyile Therivadhu"
                  ],
                  "legendgroup": "Ilaiyaraaja",
                  "marker": {
                    "color": "#FECB52",
                    "symbol": "circle"
                  },
                  "mode": "markers",
                  "name": "Ilaiyaraaja",
                  "orientation": "v",
                  "showlegend": true,
                  "type": "scatter",
                  "x": {
                    "bdata": "jYkFAO2iBAA=",
                    "dtype": "i4"
                  },
                  "xaxis": "x",
                  "y": {
                    "bdata": "MTY=",
                    "dtype": "i1"
                  },
                  "yaxis": "y"
                },
                {
                  "hovertemplate": "<b>%{hovertext}</b><br><br>artist=N.R. Raghunanthan<br>length=%{x}<br>popularity=%{y}<extra></extra>",
                  "hovertext": [
                    "Para Para"
                  ],
                  "legendgroup": "N.R. Raghunanthan",
                  "marker": {
                    "color": "#636efa",
                    "symbol": "circle"
                  },
                  "mode": "markers",
                  "name": "N.R. Raghunanthan",
                  "orientation": "v",
                  "showlegend": true,
                  "type": "scatter",
                  "x": {
                    "bdata": "Mt4EAA==",
                    "dtype": "i4"
                  },
                  "xaxis": "x",
                  "y": {
                    "bdata": "PQ==",
                    "dtype": "i1"
                  },
                  "yaxis": "y"
                },
                {
                  "hovertemplate": "<b>%{hovertext}</b><br><br>artist=Govind Vasantha<br>length=%{x}<br>popularity=%{y}<extra></extra>",
                  "hovertext": [
                    "The Life of Ram"
                  ],
                  "legendgroup": "Govind Vasantha",
                  "marker": {
                    "color": "#EF553B",
                    "symbol": "circle"
                  },
                  "mode": "markers",
                  "name": "Govind Vasantha",
                  "orientation": "v",
                  "showlegend": true,
                  "type": "scatter",
                  "x": {
                    "bdata": "7WcFAA==",
                    "dtype": "i4"
                  },
                  "xaxis": "x",
                  "y": {
                    "bdata": "Pg==",
                    "dtype": "i1"
                  },
                  "yaxis": "y"
                }
              ],
              "layout": {
                "legend": {
                  "title": {
                    "text": "artist"
                  },
                  "tracegroupgap": 0
                },
                "template": {
                  "data": {
                    "bar": [
                      {
                        "error_x": {
                          "color": "#2a3f5f"
                        },
                        "error_y": {
                          "color": "#2a3f5f"
                        },
                        "marker": {
                          "line": {
                            "color": "#E5ECF6",
                            "width": 0.5
                          },
                          "pattern": {
                            "fillmode": "overlay",
                            "size": 10,
                            "solidity": 0.2
                          }
                        },
                        "type": "bar"
                      }
                    ],
                    "barpolar": [
                      {
                        "marker": {
                          "line": {
                            "color": "#E5ECF6",
                            "width": 0.5
                          },
                          "pattern": {
                            "fillmode": "overlay",
                            "size": 10,
                            "solidity": 0.2
                          }
                        },
                        "type": "barpolar"
                      }
                    ],
                    "carpet": [
                      {
                        "aaxis": {
                          "endlinecolor": "#2a3f5f",
                          "gridcolor": "white",
                          "linecolor": "white",
                          "minorgridcolor": "white",
                          "startlinecolor": "#2a3f5f"
                        },
                        "baxis": {
                          "endlinecolor": "#2a3f5f",
                          "gridcolor": "white",
                          "linecolor": "white",
                          "minorgridcolor": "white",
                          "startlinecolor": "#2a3f5f"
                        },
                        "type": "carpet"
                      }
                    ],
                    "choropleth": [
                      {
                        "colorbar": {
                          "outlinewidth": 0,
                          "ticks": ""
                        },
                        "type": "choropleth"
                      }
                    ],
                    "contour": [
                      {
                        "colorbar": {
                          "outlinewidth": 0,
                          "ticks": ""
                        },
                        "colorscale": [
                          [
                            0,
                            "#0d0887"
                          ],
                          [
                            0.1111111111111111,
                            "#46039f"
                          ],
                          [
                            0.2222222222222222,
                            "#7201a8"
                          ],
                          [
                            0.3333333333333333,
                            "#9c179e"
                          ],
                          [
                            0.4444444444444444,
                            "#bd3786"
                          ],
                          [
                            0.5555555555555556,
                            "#d8576b"
                          ],
                          [
                            0.6666666666666666,
                            "#ed7953"
                          ],
                          [
                            0.7777777777777778,
                            "#fb9f3a"
                          ],
                          [
                            0.8888888888888888,
                            "#fdca26"
                          ],
                          [
                            1,
                            "#f0f921"
                          ]
                        ],
                        "type": "contour"
                      }
                    ],
                    "contourcarpet": [
                      {
                        "colorbar": {
                          "outlinewidth": 0,
                          "ticks": ""
                        },
                        "type": "contourcarpet"
                      }
                    ],
                    "heatmap": [
                      {
                        "colorbar": {
                          "outlinewidth": 0,
                          "ticks": ""
                        },
                        "colorscale": [
                          [
                            0,
                            "#0d0887"
                          ],
                          [
                            0.1111111111111111,
                            "#46039f"
                          ],
                          [
                            0.2222222222222222,
                            "#7201a8"
                          ],
                          [
                            0.3333333333333333,
                            "#9c179e"
                          ],
                          [
                            0.4444444444444444,
                            "#bd3786"
                          ],
                          [
                            0.5555555555555556,
                            "#d8576b"
                          ],
                          [
                            0.6666666666666666,
                            "#ed7953"
                          ],
                          [
                            0.7777777777777778,
                            "#fb9f3a"
                          ],
                          [
                            0.8888888888888888,
                            "#fdca26"
                          ],
                          [
                            1,
                            "#f0f921"
                          ]
                        ],
                        "type": "heatmap"
                      }
                    ],
                    "histogram": [
                      {
                        "marker": {
                          "pattern": {
                            "fillmode": "overlay",
                            "size": 10,
                            "solidity": 0.2
                          }
                        },
                        "type": "histogram"
                      }
                    ],
                    "histogram2d": [
                      {
                        "colorbar": {
                          "outlinewidth": 0,
                          "ticks": ""
                        },
                        "colorscale": [
                          [
                            0,
                            "#0d0887"
                          ],
                          [
                            0.1111111111111111,
                            "#46039f"
                          ],
                          [
                            0.2222222222222222,
                            "#7201a8"
                          ],
                          [
                            0.3333333333333333,
                            "#9c179e"
                          ],
                          [
                            0.4444444444444444,
                            "#bd3786"
                          ],
                          [
                            0.5555555555555556,
                            "#d8576b"
                          ],
                          [
                            0.6666666666666666,
                            "#ed7953"
                          ],
                          [
                            0.7777777777777778,
                            "#fb9f3a"
                          ],
                          [
                            0.8888888888888888,
                            "#fdca26"
                          ],
                          [
                            1,
                            "#f0f921"
                          ]
                        ],
                        "type": "histogram2d"
                      }
                    ],
                    "histogram2dcontour": [
                      {
                        "colorbar": {
                          "outlinewidth": 0,
                          "ticks": ""
                        },
                        "colorscale": [
                          [
                            0,
                            "#0d0887"
                          ],
                          [
                            0.1111111111111111,
                            "#46039f"
                          ],
                          [
                            0.2222222222222222,
                            "#7201a8"
                          ],
                          [
                            0.3333333333333333,
                            "#9c179e"
                          ],
                          [
                            0.4444444444444444,
                            "#bd3786"
                          ],
                          [
                            0.5555555555555556,
                            "#d8576b"
                          ],
                          [
                            0.6666666666666666,
                            "#ed7953"
                          ],
                          [
                            0.7777777777777778,
                            "#fb9f3a"
                          ],
                          [
                            0.8888888888888888,
                            "#fdca26"
                          ],
                          [
                            1,
                            "#f0f921"
                          ]
                        ],
                        "type": "histogram2dcontour"
                      }
                    ],
                    "mesh3d": [
                      {
                        "colorbar": {
                          "outlinewidth": 0,
                          "ticks": ""
                        },
                        "type": "mesh3d"
                      }
                    ],
                    "parcoords": [
                      {
                        "line": {
                          "colorbar": {
                            "outlinewidth": 0,
                            "ticks": ""
                          }
                        },
                        "type": "parcoords"
                      }
                    ],
                    "pie": [
                      {
                        "automargin": true,
                        "type": "pie"
                      }
                    ],
                    "scatter": [
                      {
                        "fillpattern": {
                          "fillmode": "overlay",
                          "size": 10,
                          "solidity": 0.2
                        },
                        "type": "scatter"
                      }
                    ],
                    "scatter3d": [
                      {
                        "line": {
                          "colorbar": {
                            "outlinewidth": 0,
                            "ticks": ""
                          }
                        },
                        "marker": {
                          "colorbar": {
                            "outlinewidth": 0,
                            "ticks": ""
                          }
                        },
                        "type": "scatter3d"
                      }
                    ],
                    "scattercarpet": [
                      {
                        "marker": {
                          "colorbar": {
                            "outlinewidth": 0,
                            "ticks": ""
                          }
                        },
                        "type": "scattercarpet"
                      }
                    ],
                    "scattergeo": [
                      {
                        "marker": {
                          "colorbar": {
                            "outlinewidth": 0,
                            "ticks": ""
                          }
                        },
                        "type": "scattergeo"
                      }
                    ],
                    "scattergl": [
                      {
                        "marker": {
                          "colorbar": {
                            "outlinewidth": 0,
                            "ticks": ""
                          }
                        },
                        "type": "scattergl"
                      }
                    ],
                    "scattermap": [
                      {
                        "marker": {
                          "colorbar": {
                            "outlinewidth": 0,
                            "ticks": ""
                          }
                        },
                        "type": "scattermap"
                      }
                    ],
                    "scattermapbox": [
                      {
                        "marker": {
                          "colorbar": {
                            "outlinewidth": 0,
                            "ticks": ""
                          }
                        },
                        "type": "scattermapbox"
                      }
                    ],
                    "scatterpolar": [
                      {
                        "marker": {
                          "colorbar": {
                            "outlinewidth": 0,
                            "ticks": ""
                          }
                        },
                        "type": "scatterpolar"
                      }
                    ],
                    "scatterpolargl": [
                      {
                        "marker": {
                          "colorbar": {
                            "outlinewidth": 0,
                            "ticks": ""
                          }
                        },
                        "type": "scatterpolargl"
                      }
                    ],
                    "scatterternary": [
                      {
                        "marker": {
                          "colorbar": {
                            "outlinewidth": 0,
                            "ticks": ""
                          }
                        },
                        "type": "scatterternary"
                      }
                    ],
                    "surface": [
                      {
                        "colorbar": {
                          "outlinewidth": 0,
                          "ticks": ""
                        },
                        "colorscale": [
                          [
                            0,
                            "#0d0887"
                          ],
                          [
                            0.1111111111111111,
                            "#46039f"
                          ],
                          [
                            0.2222222222222222,
                            "#7201a8"
                          ],
                          [
                            0.3333333333333333,
                            "#9c179e"
                          ],
                          [
                            0.4444444444444444,
                            "#bd3786"
                          ],
                          [
                            0.5555555555555556,
                            "#d8576b"
                          ],
                          [
                            0.6666666666666666,
                            "#ed7953"
                          ],
                          [
                            0.7777777777777778,
                            "#fb9f3a"
                          ],
                          [
                            0.8888888888888888,
                            "#fdca26"
                          ],
                          [
                            1,
                            "#f0f921"
                          ]
                        ],
                        "type": "surface"
                      }
                    ],
                    "table": [
                      {
                        "cells": {
                          "fill": {
                            "color": "#EBF0F8"
                          },
                          "line": {
                            "color": "white"
                          }
                        },
                        "header": {
                          "fill": {
                            "color": "#C8D4E3"
                          },
                          "line": {
                            "color": "white"
                          }
                        },
                        "type": "table"
                      }
                    ]
                  },
                  "layout": {
                    "annotationdefaults": {
                      "arrowcolor": "#2a3f5f",
                      "arrowhead": 0,
                      "arrowwidth": 1
                    },
                    "autotypenumbers": "strict",
                    "coloraxis": {
                      "colorbar": {
                        "outlinewidth": 0,
                        "ticks": ""
                      }
                    },
                    "colorscale": {
                      "diverging": [
                        [
                          0,
                          "#8e0152"
                        ],
                        [
                          0.1,
                          "#c51b7d"
                        ],
                        [
                          0.2,
                          "#de77ae"
                        ],
                        [
                          0.3,
                          "#f1b6da"
                        ],
                        [
                          0.4,
                          "#fde0ef"
                        ],
                        [
                          0.5,
                          "#f7f7f7"
                        ],
                        [
                          0.6,
                          "#e6f5d0"
                        ],
                        [
                          0.7,
                          "#b8e186"
                        ],
                        [
                          0.8,
                          "#7fbc41"
                        ],
                        [
                          0.9,
                          "#4d9221"
                        ],
                        [
                          1,
                          "#276419"
                        ]
                      ],
                      "sequential": [
                        [
                          0,
                          "#0d0887"
                        ],
                        [
                          0.1111111111111111,
                          "#46039f"
                        ],
                        [
                          0.2222222222222222,
                          "#7201a8"
                        ],
                        [
                          0.3333333333333333,
                          "#9c179e"
                        ],
                        [
                          0.4444444444444444,
                          "#bd3786"
                        ],
                        [
                          0.5555555555555556,
                          "#d8576b"
                        ],
                        [
                          0.6666666666666666,
                          "#ed7953"
                        ],
                        [
                          0.7777777777777778,
                          "#fb9f3a"
                        ],
                        [
                          0.8888888888888888,
                          "#fdca26"
                        ],
                        [
                          1,
                          "#f0f921"
                        ]
                      ],
                      "sequentialminus": [
                        [
                          0,
                          "#0d0887"
                        ],
                        [
                          0.1111111111111111,
                          "#46039f"
                        ],
                        [
                          0.2222222222222222,
                          "#7201a8"
                        ],
                        [
                          0.3333333333333333,
                          "#9c179e"
                        ],
                        [
                          0.4444444444444444,
                          "#bd3786"
                        ],
                        [
                          0.5555555555555556,
                          "#d8576b"
                        ],
                        [
                          0.6666666666666666,
                          "#ed7953"
                        ],
                        [
                          0.7777777777777778,
                          "#fb9f3a"
                        ],
                        [
                          0.8888888888888888,
                          "#fdca26"
                        ],
                        [
                          1,
                          "#f0f921"
                        ]
                      ]
                    },
                    "colorway": [
                      "#636efa",
                      "#EF553B",
                      "#00cc96",
                      "#ab63fa",
                      "#FFA15A",
                      "#19d3f3",
                      "#FF6692",
                      "#B6E880",
                      "#FF97FF",
                      "#FECB52"
                    ],
                    "font": {
                      "color": "#2a3f5f"
                    },
                    "geo": {
                      "bgcolor": "white",
                      "lakecolor": "white",
                      "landcolor": "#E5ECF6",
                      "showlakes": true,
                      "showland": true,
                      "subunitcolor": "white"
                    },
                    "hoverlabel": {
                      "align": "left"
                    },
                    "hovermode": "closest",
                    "mapbox": {
                      "style": "light"
                    },
                    "paper_bgcolor": "white",
                    "plot_bgcolor": "#E5ECF6",
                    "polar": {
                      "angularaxis": {
                        "gridcolor": "white",
                        "linecolor": "white",
                        "ticks": ""
                      },
                      "bgcolor": "#E5ECF6",
                      "radialaxis": {
                        "gridcolor": "white",
                        "linecolor": "white",
                        "ticks": ""
                      }
                    },
                    "scene": {
                      "xaxis": {
                        "backgroundcolor": "#E5ECF6",
                        "gridcolor": "white",
                        "gridwidth": 2,
                        "linecolor": "white",
                        "showbackground": true,
                        "ticks": "",
                        "zerolinecolor": "white"
                      },
                      "yaxis": {
                        "backgroundcolor": "#E5ECF6",
                        "gridcolor": "white",
                        "gridwidth": 2,
                        "linecolor": "white",
                        "showbackground": true,
                        "ticks": "",
                        "zerolinecolor": "white"
                      },
                      "zaxis": {
                        "backgroundcolor": "#E5ECF6",
                        "gridcolor": "white",
                        "gridwidth": 2,
                        "linecolor": "white",
                        "showbackground": true,
                        "ticks": "",
                        "zerolinecolor": "white"
                      }
                    },
                    "shapedefaults": {
                      "line": {
                        "color": "#2a3f5f"
                      }
                    },
                    "ternary": {
                      "aaxis": {
                        "gridcolor": "white",
                        "linecolor": "white",
                        "ticks": ""
                      },
                      "baxis": {
                        "gridcolor": "white",
                        "linecolor": "white",
                        "ticks": ""
                      },
                      "bgcolor": "#E5ECF6",
                      "caxis": {
                        "gridcolor": "white",
                        "linecolor": "white",
                        "ticks": ""
                      }
                    },
                    "title": {
                      "x": 0.05
                    },
                    "xaxis": {
                      "automargin": true,
                      "gridcolor": "white",
                      "linecolor": "white",
                      "ticks": "",
                      "title": {
                        "standoff": 15
                      },
                      "zerolinecolor": "white",
                      "zerolinewidth": 2
                    },
                    "yaxis": {
                      "automargin": true,
                      "gridcolor": "white",
                      "linecolor": "white",
                      "ticks": "",
                      "title": {
                        "standoff": 15
                      },
                      "zerolinecolor": "white",
                      "zerolinewidth": 2
                    }
                  }
                },
                "title": {
                  "text": "Scatter Plot of Songs (Length vs Popularity)"
                },
                "xaxis": {
                  "anchor": "y",
                  "domain": [
                    0,
                    1
                  ],
                  "title": {
                    "text": "length"
                  }
                },
                "yaxis": {
                  "anchor": "x",
                  "domain": [
                    0,
                    1
                  ],
                  "title": {
                    "text": "popularity"
                  }
                }
              }
            }
          },
          "metadata": {},
          "output_type": "display_data"
        }
      ],
      "source": [
        "fig = px.scatter(\n",
        "    my_playlist,\n",
        "    x=\"length\",\n",
        "    y=\"popularity\",\n",
        "    color=\"artist\",\n",
        "    hover_name=\"name\",\n",
        "    title=\"Scatter Plot of Songs (Length vs Popularity)\"\n",
        ")\n",
        "fig.show()\n"
      ]
    },
    {
      "cell_type": "code",
      "execution_count": null,
      "metadata": {
        "colab": {
          "base_uri": "https://localhost:8080/",
          "height": 542
        },
        "id": "lTIJdPHHZcX6",
        "outputId": "9aacdcb5-842d-48ee-d47c-19b9294b38fc"
      },
      "outputs": [
        {
          "data": {
            "application/vnd.plotly.v1+json": {
              "config": {
                "plotlyServerURL": "https://plot.ly"
              },
              "data": [
                {
                  "domain": {
                    "x": [
                      0,
                      1
                    ],
                    "y": [
                      0,
                      1
                    ]
                  },
                  "hovertemplate": "artist=%{label}<br>popularity=%{value}<extra></extra>",
                  "labels": [
                    "Lady Gaga",
                    "The Weeknd",
                    "The Chainsmokers",
                    "Sachin-Jigar",
                    "The Kid LAROI",
                    "Thaman S",
                    "Faheem Abdullah",
                    "Faheem Abdullah",
                    "Anirudh Ravichander",
                    "G. V. Prakash",
                    "G. V. Prakash",
                    "Dhibu Ninan Thomas",
                    "Faheem Abdullah",
                    "Leon James",
                    "Harris Jayaraj",
                    "Dhibu Ninan Thomas",
                    "A.R. Rahman",
                    "Yuvan Shankar Raja",
                    "Anirudh Ravichander",
                    "Yuvan Shankar Raja",
                    "Various Artists",
                    "Nivas K Prasanna",
                    "G. V. Prakash",
                    "Santhosh Narayanan",
                    "Ghibran",
                    "Yuvan Shankar Raja",
                    "Dhibu Ninan Thomas",
                    "JERRY",
                    "A.R. Rahman",
                    "Justin Prabhakaran",
                    "Harris Jayaraj",
                    "G. V. Prakash",
                    "Govind Vasantha",
                    "Santhosh Narayanan",
                    "N.R. Raghunanthan"
                  ],
                  "legendgroup": "",
                  "name": "",
                  "showlegend": true,
                  "textinfo": "percent+label",
                  "textposition": "inside",
                  "type": "pie",
                  "values": {
                    "bdata": "XFhWUlBIR0dFREREQ0NDQ0NCQkJCQUFAQD8/Pz8/Pj4+PT0=",
                    "dtype": "i1"
                  }
                }
              ],
              "layout": {
                "legend": {
                  "tracegroupgap": 0
                },
                "template": {
                  "data": {
                    "bar": [
                      {
                        "error_x": {
                          "color": "#2a3f5f"
                        },
                        "error_y": {
                          "color": "#2a3f5f"
                        },
                        "marker": {
                          "line": {
                            "color": "#E5ECF6",
                            "width": 0.5
                          },
                          "pattern": {
                            "fillmode": "overlay",
                            "size": 10,
                            "solidity": 0.2
                          }
                        },
                        "type": "bar"
                      }
                    ],
                    "barpolar": [
                      {
                        "marker": {
                          "line": {
                            "color": "#E5ECF6",
                            "width": 0.5
                          },
                          "pattern": {
                            "fillmode": "overlay",
                            "size": 10,
                            "solidity": 0.2
                          }
                        },
                        "type": "barpolar"
                      }
                    ],
                    "carpet": [
                      {
                        "aaxis": {
                          "endlinecolor": "#2a3f5f",
                          "gridcolor": "white",
                          "linecolor": "white",
                          "minorgridcolor": "white",
                          "startlinecolor": "#2a3f5f"
                        },
                        "baxis": {
                          "endlinecolor": "#2a3f5f",
                          "gridcolor": "white",
                          "linecolor": "white",
                          "minorgridcolor": "white",
                          "startlinecolor": "#2a3f5f"
                        },
                        "type": "carpet"
                      }
                    ],
                    "choropleth": [
                      {
                        "colorbar": {
                          "outlinewidth": 0,
                          "ticks": ""
                        },
                        "type": "choropleth"
                      }
                    ],
                    "contour": [
                      {
                        "colorbar": {
                          "outlinewidth": 0,
                          "ticks": ""
                        },
                        "colorscale": [
                          [
                            0,
                            "#0d0887"
                          ],
                          [
                            0.1111111111111111,
                            "#46039f"
                          ],
                          [
                            0.2222222222222222,
                            "#7201a8"
                          ],
                          [
                            0.3333333333333333,
                            "#9c179e"
                          ],
                          [
                            0.4444444444444444,
                            "#bd3786"
                          ],
                          [
                            0.5555555555555556,
                            "#d8576b"
                          ],
                          [
                            0.6666666666666666,
                            "#ed7953"
                          ],
                          [
                            0.7777777777777778,
                            "#fb9f3a"
                          ],
                          [
                            0.8888888888888888,
                            "#fdca26"
                          ],
                          [
                            1,
                            "#f0f921"
                          ]
                        ],
                        "type": "contour"
                      }
                    ],
                    "contourcarpet": [
                      {
                        "colorbar": {
                          "outlinewidth": 0,
                          "ticks": ""
                        },
                        "type": "contourcarpet"
                      }
                    ],
                    "heatmap": [
                      {
                        "colorbar": {
                          "outlinewidth": 0,
                          "ticks": ""
                        },
                        "colorscale": [
                          [
                            0,
                            "#0d0887"
                          ],
                          [
                            0.1111111111111111,
                            "#46039f"
                          ],
                          [
                            0.2222222222222222,
                            "#7201a8"
                          ],
                          [
                            0.3333333333333333,
                            "#9c179e"
                          ],
                          [
                            0.4444444444444444,
                            "#bd3786"
                          ],
                          [
                            0.5555555555555556,
                            "#d8576b"
                          ],
                          [
                            0.6666666666666666,
                            "#ed7953"
                          ],
                          [
                            0.7777777777777778,
                            "#fb9f3a"
                          ],
                          [
                            0.8888888888888888,
                            "#fdca26"
                          ],
                          [
                            1,
                            "#f0f921"
                          ]
                        ],
                        "type": "heatmap"
                      }
                    ],
                    "histogram": [
                      {
                        "marker": {
                          "pattern": {
                            "fillmode": "overlay",
                            "size": 10,
                            "solidity": 0.2
                          }
                        },
                        "type": "histogram"
                      }
                    ],
                    "histogram2d": [
                      {
                        "colorbar": {
                          "outlinewidth": 0,
                          "ticks": ""
                        },
                        "colorscale": [
                          [
                            0,
                            "#0d0887"
                          ],
                          [
                            0.1111111111111111,
                            "#46039f"
                          ],
                          [
                            0.2222222222222222,
                            "#7201a8"
                          ],
                          [
                            0.3333333333333333,
                            "#9c179e"
                          ],
                          [
                            0.4444444444444444,
                            "#bd3786"
                          ],
                          [
                            0.5555555555555556,
                            "#d8576b"
                          ],
                          [
                            0.6666666666666666,
                            "#ed7953"
                          ],
                          [
                            0.7777777777777778,
                            "#fb9f3a"
                          ],
                          [
                            0.8888888888888888,
                            "#fdca26"
                          ],
                          [
                            1,
                            "#f0f921"
                          ]
                        ],
                        "type": "histogram2d"
                      }
                    ],
                    "histogram2dcontour": [
                      {
                        "colorbar": {
                          "outlinewidth": 0,
                          "ticks": ""
                        },
                        "colorscale": [
                          [
                            0,
                            "#0d0887"
                          ],
                          [
                            0.1111111111111111,
                            "#46039f"
                          ],
                          [
                            0.2222222222222222,
                            "#7201a8"
                          ],
                          [
                            0.3333333333333333,
                            "#9c179e"
                          ],
                          [
                            0.4444444444444444,
                            "#bd3786"
                          ],
                          [
                            0.5555555555555556,
                            "#d8576b"
                          ],
                          [
                            0.6666666666666666,
                            "#ed7953"
                          ],
                          [
                            0.7777777777777778,
                            "#fb9f3a"
                          ],
                          [
                            0.8888888888888888,
                            "#fdca26"
                          ],
                          [
                            1,
                            "#f0f921"
                          ]
                        ],
                        "type": "histogram2dcontour"
                      }
                    ],
                    "mesh3d": [
                      {
                        "colorbar": {
                          "outlinewidth": 0,
                          "ticks": ""
                        },
                        "type": "mesh3d"
                      }
                    ],
                    "parcoords": [
                      {
                        "line": {
                          "colorbar": {
                            "outlinewidth": 0,
                            "ticks": ""
                          }
                        },
                        "type": "parcoords"
                      }
                    ],
                    "pie": [
                      {
                        "automargin": true,
                        "type": "pie"
                      }
                    ],
                    "scatter": [
                      {
                        "fillpattern": {
                          "fillmode": "overlay",
                          "size": 10,
                          "solidity": 0.2
                        },
                        "type": "scatter"
                      }
                    ],
                    "scatter3d": [
                      {
                        "line": {
                          "colorbar": {
                            "outlinewidth": 0,
                            "ticks": ""
                          }
                        },
                        "marker": {
                          "colorbar": {
                            "outlinewidth": 0,
                            "ticks": ""
                          }
                        },
                        "type": "scatter3d"
                      }
                    ],
                    "scattercarpet": [
                      {
                        "marker": {
                          "colorbar": {
                            "outlinewidth": 0,
                            "ticks": ""
                          }
                        },
                        "type": "scattercarpet"
                      }
                    ],
                    "scattergeo": [
                      {
                        "marker": {
                          "colorbar": {
                            "outlinewidth": 0,
                            "ticks": ""
                          }
                        },
                        "type": "scattergeo"
                      }
                    ],
                    "scattergl": [
                      {
                        "marker": {
                          "colorbar": {
                            "outlinewidth": 0,
                            "ticks": ""
                          }
                        },
                        "type": "scattergl"
                      }
                    ],
                    "scattermap": [
                      {
                        "marker": {
                          "colorbar": {
                            "outlinewidth": 0,
                            "ticks": ""
                          }
                        },
                        "type": "scattermap"
                      }
                    ],
                    "scattermapbox": [
                      {
                        "marker": {
                          "colorbar": {
                            "outlinewidth": 0,
                            "ticks": ""
                          }
                        },
                        "type": "scattermapbox"
                      }
                    ],
                    "scatterpolar": [
                      {
                        "marker": {
                          "colorbar": {
                            "outlinewidth": 0,
                            "ticks": ""
                          }
                        },
                        "type": "scatterpolar"
                      }
                    ],
                    "scatterpolargl": [
                      {
                        "marker": {
                          "colorbar": {
                            "outlinewidth": 0,
                            "ticks": ""
                          }
                        },
                        "type": "scatterpolargl"
                      }
                    ],
                    "scatterternary": [
                      {
                        "marker": {
                          "colorbar": {
                            "outlinewidth": 0,
                            "ticks": ""
                          }
                        },
                        "type": "scatterternary"
                      }
                    ],
                    "surface": [
                      {
                        "colorbar": {
                          "outlinewidth": 0,
                          "ticks": ""
                        },
                        "colorscale": [
                          [
                            0,
                            "#0d0887"
                          ],
                          [
                            0.1111111111111111,
                            "#46039f"
                          ],
                          [
                            0.2222222222222222,
                            "#7201a8"
                          ],
                          [
                            0.3333333333333333,
                            "#9c179e"
                          ],
                          [
                            0.4444444444444444,
                            "#bd3786"
                          ],
                          [
                            0.5555555555555556,
                            "#d8576b"
                          ],
                          [
                            0.6666666666666666,
                            "#ed7953"
                          ],
                          [
                            0.7777777777777778,
                            "#fb9f3a"
                          ],
                          [
                            0.8888888888888888,
                            "#fdca26"
                          ],
                          [
                            1,
                            "#f0f921"
                          ]
                        ],
                        "type": "surface"
                      }
                    ],
                    "table": [
                      {
                        "cells": {
                          "fill": {
                            "color": "#EBF0F8"
                          },
                          "line": {
                            "color": "white"
                          }
                        },
                        "header": {
                          "fill": {
                            "color": "#C8D4E3"
                          },
                          "line": {
                            "color": "white"
                          }
                        },
                        "type": "table"
                      }
                    ]
                  },
                  "layout": {
                    "annotationdefaults": {
                      "arrowcolor": "#2a3f5f",
                      "arrowhead": 0,
                      "arrowwidth": 1
                    },
                    "autotypenumbers": "strict",
                    "coloraxis": {
                      "colorbar": {
                        "outlinewidth": 0,
                        "ticks": ""
                      }
                    },
                    "colorscale": {
                      "diverging": [
                        [
                          0,
                          "#8e0152"
                        ],
                        [
                          0.1,
                          "#c51b7d"
                        ],
                        [
                          0.2,
                          "#de77ae"
                        ],
                        [
                          0.3,
                          "#f1b6da"
                        ],
                        [
                          0.4,
                          "#fde0ef"
                        ],
                        [
                          0.5,
                          "#f7f7f7"
                        ],
                        [
                          0.6,
                          "#e6f5d0"
                        ],
                        [
                          0.7,
                          "#b8e186"
                        ],
                        [
                          0.8,
                          "#7fbc41"
                        ],
                        [
                          0.9,
                          "#4d9221"
                        ],
                        [
                          1,
                          "#276419"
                        ]
                      ],
                      "sequential": [
                        [
                          0,
                          "#0d0887"
                        ],
                        [
                          0.1111111111111111,
                          "#46039f"
                        ],
                        [
                          0.2222222222222222,
                          "#7201a8"
                        ],
                        [
                          0.3333333333333333,
                          "#9c179e"
                        ],
                        [
                          0.4444444444444444,
                          "#bd3786"
                        ],
                        [
                          0.5555555555555556,
                          "#d8576b"
                        ],
                        [
                          0.6666666666666666,
                          "#ed7953"
                        ],
                        [
                          0.7777777777777778,
                          "#fb9f3a"
                        ],
                        [
                          0.8888888888888888,
                          "#fdca26"
                        ],
                        [
                          1,
                          "#f0f921"
                        ]
                      ],
                      "sequentialminus": [
                        [
                          0,
                          "#0d0887"
                        ],
                        [
                          0.1111111111111111,
                          "#46039f"
                        ],
                        [
                          0.2222222222222222,
                          "#7201a8"
                        ],
                        [
                          0.3333333333333333,
                          "#9c179e"
                        ],
                        [
                          0.4444444444444444,
                          "#bd3786"
                        ],
                        [
                          0.5555555555555556,
                          "#d8576b"
                        ],
                        [
                          0.6666666666666666,
                          "#ed7953"
                        ],
                        [
                          0.7777777777777778,
                          "#fb9f3a"
                        ],
                        [
                          0.8888888888888888,
                          "#fdca26"
                        ],
                        [
                          1,
                          "#f0f921"
                        ]
                      ]
                    },
                    "colorway": [
                      "#636efa",
                      "#EF553B",
                      "#00cc96",
                      "#ab63fa",
                      "#FFA15A",
                      "#19d3f3",
                      "#FF6692",
                      "#B6E880",
                      "#FF97FF",
                      "#FECB52"
                    ],
                    "font": {
                      "color": "#2a3f5f"
                    },
                    "geo": {
                      "bgcolor": "white",
                      "lakecolor": "white",
                      "landcolor": "#E5ECF6",
                      "showlakes": true,
                      "showland": true,
                      "subunitcolor": "white"
                    },
                    "hoverlabel": {
                      "align": "left"
                    },
                    "hovermode": "closest",
                    "mapbox": {
                      "style": "light"
                    },
                    "paper_bgcolor": "white",
                    "plot_bgcolor": "#E5ECF6",
                    "polar": {
                      "angularaxis": {
                        "gridcolor": "white",
                        "linecolor": "white",
                        "ticks": ""
                      },
                      "bgcolor": "#E5ECF6",
                      "radialaxis": {
                        "gridcolor": "white",
                        "linecolor": "white",
                        "ticks": ""
                      }
                    },
                    "scene": {
                      "xaxis": {
                        "backgroundcolor": "#E5ECF6",
                        "gridcolor": "white",
                        "gridwidth": 2,
                        "linecolor": "white",
                        "showbackground": true,
                        "ticks": "",
                        "zerolinecolor": "white"
                      },
                      "yaxis": {
                        "backgroundcolor": "#E5ECF6",
                        "gridcolor": "white",
                        "gridwidth": 2,
                        "linecolor": "white",
                        "showbackground": true,
                        "ticks": "",
                        "zerolinecolor": "white"
                      },
                      "zaxis": {
                        "backgroundcolor": "#E5ECF6",
                        "gridcolor": "white",
                        "gridwidth": 2,
                        "linecolor": "white",
                        "showbackground": true,
                        "ticks": "",
                        "zerolinecolor": "white"
                      }
                    },
                    "shapedefaults": {
                      "line": {
                        "color": "#2a3f5f"
                      }
                    },
                    "ternary": {
                      "aaxis": {
                        "gridcolor": "white",
                        "linecolor": "white",
                        "ticks": ""
                      },
                      "baxis": {
                        "gridcolor": "white",
                        "linecolor": "white",
                        "ticks": ""
                      },
                      "bgcolor": "#E5ECF6",
                      "caxis": {
                        "gridcolor": "white",
                        "linecolor": "white",
                        "ticks": ""
                      }
                    },
                    "title": {
                      "x": 0.05
                    },
                    "xaxis": {
                      "automargin": true,
                      "gridcolor": "white",
                      "linecolor": "white",
                      "ticks": "",
                      "title": {
                        "standoff": 15
                      },
                      "zerolinecolor": "white",
                      "zerolinewidth": 2
                    },
                    "yaxis": {
                      "automargin": true,
                      "gridcolor": "white",
                      "linecolor": "white",
                      "ticks": "",
                      "title": {
                        "standoff": 15
                      },
                      "zerolinecolor": "white",
                      "zerolinewidth": 2
                    }
                  }
                },
                "title": {
                  "text": "Popularity of Songs Greater than 60 by Artist in this Playlist"
                }
              }
            }
          },
          "metadata": {},
          "output_type": "display_data"
        }
      ],
      "source": [
        "# Filter songs with popularity > 60\n",
        "pop_96 = my_playlist.loc[my_playlist['popularity'] > 60].sort_values(by='popularity', ascending=False)\n",
        "fig = px.pie(\n",
        "    pop_96,\n",
        "    values='popularity',\n",
        "    names='artist',\n",
        "    title='Popularity of Songs Greater than 60 by Artist in this Playlist'\n",
        ")\n",
        "fig.update_traces(textposition='inside', textinfo='percent+label')"
      ]
    },
    {
      "cell_type": "code",
      "execution_count": null,
      "metadata": {},
      "outputs": [],
      "source": []
    },
    {
      "cell_type": "code",
      "execution_count": null,
      "metadata": {},
      "outputs": [],
      "source": []
    }
  ],
  "metadata": {
    "colab": {
      "provenance": []
    },
    "kernelspec": {
      "display_name": "Python 3",
      "name": "python3"
    },
    "language_info": {
      "codemirror_mode": {
        "name": "ipython",
        "version": 3
      },
      "file_extension": ".py",
      "mimetype": "text/x-python",
      "name": "python",
      "nbconvert_exporter": "python",
      "pygments_lexer": "ipython3",
      "version": "3.13.7"
    }
  },
  "nbformat": 4,
  "nbformat_minor": 0
}
